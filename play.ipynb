{
 "cells": [
  {
   "cell_type": "markdown",
   "metadata": {},
   "source": [
    "1-hour level data"
   ]
  },
  {
   "cell_type": "code",
   "execution_count": 6,
   "metadata": {},
   "outputs": [
    {
     "data": {
      "text/plain": [
       "Index(['date', 'irradiance', 'pri_supp_t', 'pri_back_t', 'pri_flow',\n",
       "       'sec_supp_t', 'sec_back_t', 'sec_flow', 'outdoor', 'indoor'],\n",
       "      dtype='object')"
      ]
     },
     "execution_count": 6,
     "metadata": {},
     "output_type": "execute_result"
    }
   ],
   "source": [
    "import pandas as pd\n",
    "excel_file = 'data/train.xlsx'\n",
    "data1 = pd.read_excel(excel_file, sheet_name='Sheet1')\n",
    "data1['date'] = pd.to_datetime(data1['date'])\n",
    "data2 = pd.read_excel(excel_file, sheet_name='Sheet2')\n",
    "data2['date'] = pd.to_datetime(data2['date'])\n",
    "merged_data = pd.merge_asof(data2, data1, on='date', tolerance=pd.Timedelta('1H'))\n",
    "merged_data.keys()"
   ]
  },
  {
   "cell_type": "markdown",
   "metadata": {},
   "source": [
    "10-min level data"
   ]
  },
  {
   "cell_type": "code",
   "execution_count": 23,
   "metadata": {},
   "outputs": [
    {
     "data": {
      "text/plain": [
       "Index(['date', 'pri_supp_t', 'pri_back_t', 'pri_flow', 'sec_supp_t',\n",
       "       'sec_back_t', 'sec_flow', 'outdoor', 'indoor', 'irradiance'],\n",
       "      dtype='object')"
      ]
     },
     "execution_count": 23,
     "metadata": {},
     "output_type": "execute_result"
    }
   ],
   "source": [
    "import pandas as pd\n",
    "excel_file = 'data/train.xlsx'\n",
    "data1 = pd.read_excel(excel_file, sheet_name='Sheet1')\n",
    "data1['date'] = pd.to_datetime(data1['date'])\n",
    "data2 = pd.read_excel(excel_file, sheet_name='Sheet2')\n",
    "data2['date'] = pd.to_datetime(data2['date'])\n",
    "merged_data = pd.merge_asof(data1, data2, on='date', tolerance=pd.Timedelta('1H'))\n",
    "merged_data.keys()"
   ]
  },
  {
   "cell_type": "code",
   "execution_count": 24,
   "metadata": {},
   "outputs": [
    {
     "name": "stderr",
     "output_type": "stream",
     "text": [
      "/tmp/ipykernel_54579/3183275229.py:3: SettingWithCopyWarning: \n",
      "A value is trying to be set on a copy of a slice from a DataFrame\n",
      "\n",
      "See the caveats in the documentation: https://pandas.pydata.org/pandas-docs/stable/user_guide/indexing.html#returning-a-view-versus-a-copy\n",
      "  data_subset.dropna(inplace=True)\n"
     ]
    }
   ],
   "source": [
    "selected_columns = ['pri_supp_t','pri_back_t', 'pri_flow', 'sec_supp_t', 'sec_back_t', 'sec_flow', 'outdoor', 'irradiance', 'indoor']\n",
    "data_subset = merged_data[selected_columns]\n",
    "data_subset.dropna(inplace=True)"
   ]
  },
  {
   "cell_type": "markdown",
   "metadata": {},
   "source": [
    "SVR-single"
   ]
  },
  {
   "cell_type": "code",
   "execution_count": 113,
   "metadata": {},
   "outputs": [],
   "source": [
    "from sklearn.model_selection import train_test_split\n",
    "X = data_subset[['pri_supp_t','pri_back_t', 'pri_flow','sec_supp_t', 'sec_back_t', 'sec_flow', 'outdoor', 'irradiance']]\n",
    "y = data_subset['indoor']\n",
    "X_train, X_test, y_train, y_test = train_test_split(X, y, test_size=0.1, shuffle=False)  \n",
    "from sklearn.model_selection import train_test_split\n",
    "from sklearn.svm import SVR\n",
    "from sklearn.metrics import mean_squared_error, r2_score\n",
    "from sklearn.preprocessing import StandardScaler\n",
    "scaler = StandardScaler()\n",
    "X_train_scaled = scaler.fit_transform(X_train)\n",
    "X_test_scaled = scaler.transform(X_test)\n",
    "# 创建 SVR 模型\n",
    "svr = SVR(kernel='rbf')  # 使用径向基函数核，也可以尝试其他核函数\n",
    "# 训练 SVR 模型\n",
    "svr.fit(X_train_scaled, y_train)\n",
    "# 预测测试集数据\n",
    "pred = svr.predict(X_test_scaled)\n",
    "# 模型评估\n",
    "mse = mean_squared_error(y_test, pred)\n",
    "r2 = r2_score(y_test, pred)"
   ]
  },
  {
   "cell_type": "code",
   "execution_count": 114,
   "metadata": {},
   "outputs": [
    {
     "data": {
      "text/plain": [
       "0.033459110948482085"
      ]
     },
     "execution_count": 114,
     "metadata": {},
     "output_type": "execute_result"
    }
   ],
   "source": [
    "r2 = r2_score(y_test, pred)\n",
    "r2"
   ]
  },
  {
   "cell_type": "markdown",
   "metadata": {},
   "source": [
    "windowed data"
   ]
  },
  {
   "cell_type": "code",
   "execution_count": null,
   "metadata": {},
   "outputs": [],
   "source": [
    "import numpy as np\n",
    "import torch\n",
    "features = ['pri_supp_t','pri_back_t', 'pri_flow','sec_supp_t', 'sec_back_t', 'sec_flow', 'outdoor', 'irradiance']\n",
    "target = 'indoor'\n",
    "X = data_subset[features].values\n",
    "y = data_subset[target].values\n",
    "time_steps = 4  # 可以根据实际情况调整时间步长\n",
    "\n",
    "# 创建时间步长的输入数据\n",
    "X_sequence = []\n",
    "y_sequence = []\n",
    "for i in range(len(data_subset) - time_steps):\n",
    "    X_sequence.append(X[i:i+time_steps])\n",
    "    y_sequence.append(y[i+time_steps])\n",
    "\n",
    "X_sequence = np.array(X_sequence, dtype=np.float32)\n",
    "y_sequence = np.array(y_sequence, dtype=np.float32)\n",
    "\n",
    "# 划分训练集和测试集\n",
    "split = int(0.8 * len(X_sequence))\n",
    "X_train = torch.from_numpy(X_sequence[:split])\n",
    "y_train = torch.from_numpy(y_sequence[:split])\n",
    "X_test = torch.from_numpy(X_sequence[split:])\n",
    "y_test = torch.from_numpy(y_sequence[split:])"
   ]
  },
  {
   "cell_type": "markdown",
   "metadata": {},
   "source": [
    "LSTM-traininging"
   ]
  },
  {
   "cell_type": "code",
   "execution_count": 8,
   "metadata": {},
   "outputs": [
    {
     "name": "stderr",
     "output_type": "stream",
     "text": [
      "/home/yuleliu/miniconda3/lib/python3.10/site-packages/tqdm/auto.py:21: TqdmWarning: IProgress not found. Please update jupyter and ipywidgets. See https://ipywidgets.readthedocs.io/en/stable/user_install.html\n",
      "  from .autonotebook import tqdm as notebook_tqdm\n"
     ]
    }
   ],
   "source": [
    "import numpy as np\n",
    "import torch\n",
    "import torch.nn as nn\n",
    "class LSTM(nn.Module):    \n",
    "    def __init__(self,input_size = 5, hidden_size = 8, out_size = 1):\n",
    "        super().__init__()\n",
    "        self.hidden_size = hidden_size\n",
    "        self.lstm = nn.LSTM(input_size, hidden_size, dropout=0.2)\n",
    "        self.linear = nn.Linear(hidden_size,out_size)\n",
    "        self.init_weights()\n",
    "\n",
    "    def forward(self,seq):\n",
    "        h0 = torch.zeros(1,1,self.hidden_size).to(seq.device) \n",
    "        c0 = torch.zeros(1,1,self.hidden_size).to(seq.device)\n",
    "        \n",
    "        nn.init.orthogonal_(h0)\n",
    "        nn.init.orthogonal_(c0)\n",
    "\n",
    "        lstm_out, self.hidden = self.lstm(seq.view(len(seq),1,-1), (h0,c0))\n",
    "        pred = self.linear(lstm_out.view(len(seq),-1))\n",
    "        \n",
    "        return pred[-1]\n",
    "    \n",
    "    def init_weights(self):\n",
    "        for name, param in self.named_parameters():\n",
    "            if 'weight' in name:\n",
    "                nn.init.orthogonal_(param)"
   ]
  },
  {
   "cell_type": "code",
   "execution_count": 266,
   "metadata": {},
   "outputs": [
    {
     "name": "stderr",
     "output_type": "stream",
     "text": [
      "/home/yuleliu/miniconda3/lib/python3.10/site-packages/torch/nn/modules/rnn.py:62: UserWarning: dropout option adds dropout after all but last recurrent layer, so non-zero dropout expects num_layers greater than 1, but got dropout=0.2 and num_layers=1\n",
      "  warnings.warn(\"dropout option adds dropout after all but last \"\n"
     ]
    },
    {
     "data": {
      "text/plain": [
       "LSTM(\n",
       "  (lstm): LSTM(5, 8, dropout=0.2)\n",
       "  (linear): Linear(in_features=8, out_features=1, bias=True)\n",
       ")"
      ]
     },
     "execution_count": 266,
     "metadata": {},
     "output_type": "execute_result"
    }
   ],
   "source": [
    "torch.manual_seed(42)\n",
    "model = LSTM(input_size=5)\n",
    "criterion = nn.MSELoss()\n",
    "optimizer = torch.optim.Adam(model.parameters(), lr=0.01)\n",
    "model"
   ]
  },
  {
   "cell_type": "code",
   "execution_count": 267,
   "metadata": {},
   "outputs": [
    {
     "name": "stderr",
     "output_type": "stream",
     "text": [
      "/home/yuleliu/miniconda3/lib/python3.10/site-packages/torch/nn/modules/loss.py:530: UserWarning: Using a target size (torch.Size([])) that is different to the input size (torch.Size([1])). This will likely lead to incorrect results due to broadcasting. Please ensure they have the same size.\n",
      "  return F.mse_loss(input, target, reduction=self.reduction)\n"
     ]
    },
    {
     "name": "stdout",
     "output_type": "stream",
     "text": [
      "Epoch 0 Loss: 0.013126863166689873\n",
      "Epoch 1 Loss: 0.012063655070960522\n",
      "Epoch 2 Loss: 0.009419387206435204\n",
      "Epoch 3 Loss: 0.009813651442527771\n",
      "Epoch 4 Loss: 0.01174815371632576\n",
      "Epoch 5 Loss: 0.010223710909485817\n",
      "Epoch 6 Loss: 0.011884995736181736\n",
      "Epoch 7 Loss: 0.008640210144221783\n",
      "Epoch 8 Loss: 0.009858672507107258\n",
      "Epoch 9 Loss: 0.009393488988280296\n",
      "Epoch 10 Loss: 0.012476903386414051\n",
      "Epoch 11 Loss: 0.00964545737951994\n",
      "Epoch 12 Loss: 0.011680442839860916\n",
      "Epoch 13 Loss: 0.008180564269423485\n",
      "Epoch 14 Loss: 0.009774765931069851\n",
      "Epoch 15 Loss: 0.011620738543570042\n",
      "Epoch 16 Loss: 0.012070359662175179\n",
      "Epoch 17 Loss: 0.01139933243393898\n",
      "Epoch 18 Loss: 0.010499009862542152\n",
      "Epoch 19 Loss: 0.01041475124657154\n",
      "Epoch 20 Loss: 0.010462299920618534\n",
      "Epoch 21 Loss: 0.012299004942178726\n",
      "Epoch 22 Loss: 0.010896306484937668\n",
      "Epoch 23 Loss: 0.009682207368314266\n",
      "Epoch 24 Loss: 0.008795500732958317\n",
      "Epoch 25 Loss: 0.008098654448986053\n",
      "Epoch 26 Loss: 0.011391595005989075\n",
      "Epoch 27 Loss: 0.010445918887853622\n",
      "Epoch 28 Loss: 0.008535923436284065\n",
      "Epoch 29 Loss: 0.011210327036678791\n",
      "Epoch 30 Loss: 0.009572912938892841\n",
      "Epoch 31 Loss: 0.011364332400262356\n",
      "Epoch 32 Loss: 0.00826947670429945\n",
      "Epoch 33 Loss: 0.010727334767580032\n",
      "Epoch 34 Loss: 0.01021985337138176\n",
      "Epoch 35 Loss: 0.011091092601418495\n",
      "Epoch 36 Loss: 0.008672862313687801\n",
      "Epoch 37 Loss: 0.009040096774697304\n",
      "Epoch 38 Loss: 0.008568378165364265\n",
      "Epoch 39 Loss: 0.010352556593716145\n"
     ]
    },
    {
     "ename": "KeyboardInterrupt",
     "evalue": "",
     "output_type": "error",
     "traceback": [
      "\u001b[0;31m---------------------------------------------------------------------------\u001b[0m",
      "\u001b[0;31mKeyboardInterrupt\u001b[0m                         Traceback (most recent call last)",
      "Cell \u001b[0;32mIn[267], line 12\u001b[0m\n\u001b[1;32m     10\u001b[0m seq, labels \u001b[38;5;241m=\u001b[39m seq\u001b[38;5;241m.\u001b[39mto(device), labels\u001b[38;5;241m.\u001b[39mto(device)\n\u001b[1;32m     11\u001b[0m y_pred \u001b[38;5;241m=\u001b[39m model(seq)\n\u001b[0;32m---> 12\u001b[0m loss \u001b[38;5;241m=\u001b[39m \u001b[43mcriterion\u001b[49m\u001b[43m(\u001b[49m\u001b[43my_pred\u001b[49m\u001b[43m,\u001b[49m\u001b[43m \u001b[49m\u001b[43mlabels\u001b[49m\u001b[43m)\u001b[49m\n\u001b[1;32m     13\u001b[0m loss\u001b[38;5;241m.\u001b[39mbackward()\n\u001b[1;32m     14\u001b[0m optimizer\u001b[38;5;241m.\u001b[39mstep()\n",
      "File \u001b[0;32m~/miniconda3/lib/python3.10/site-packages/torch/nn/modules/module.py:1130\u001b[0m, in \u001b[0;36mModule._call_impl\u001b[0;34m(self, *input, **kwargs)\u001b[0m\n\u001b[1;32m   1126\u001b[0m \u001b[38;5;66;03m# If we don't have any hooks, we want to skip the rest of the logic in\u001b[39;00m\n\u001b[1;32m   1127\u001b[0m \u001b[38;5;66;03m# this function, and just call forward.\u001b[39;00m\n\u001b[1;32m   1128\u001b[0m \u001b[38;5;28;01mif\u001b[39;00m \u001b[38;5;129;01mnot\u001b[39;00m (\u001b[38;5;28mself\u001b[39m\u001b[38;5;241m.\u001b[39m_backward_hooks \u001b[38;5;129;01mor\u001b[39;00m \u001b[38;5;28mself\u001b[39m\u001b[38;5;241m.\u001b[39m_forward_hooks \u001b[38;5;129;01mor\u001b[39;00m \u001b[38;5;28mself\u001b[39m\u001b[38;5;241m.\u001b[39m_forward_pre_hooks \u001b[38;5;129;01mor\u001b[39;00m _global_backward_hooks\n\u001b[1;32m   1129\u001b[0m         \u001b[38;5;129;01mor\u001b[39;00m _global_forward_hooks \u001b[38;5;129;01mor\u001b[39;00m _global_forward_pre_hooks):\n\u001b[0;32m-> 1130\u001b[0m     \u001b[38;5;28;01mreturn\u001b[39;00m \u001b[43mforward_call\u001b[49m\u001b[43m(\u001b[49m\u001b[38;5;241;43m*\u001b[39;49m\u001b[38;5;28;43minput\u001b[39;49m\u001b[43m,\u001b[49m\u001b[43m \u001b[49m\u001b[38;5;241;43m*\u001b[39;49m\u001b[38;5;241;43m*\u001b[39;49m\u001b[43mkwargs\u001b[49m\u001b[43m)\u001b[49m\n\u001b[1;32m   1131\u001b[0m \u001b[38;5;66;03m# Do not call functions when jit is used\u001b[39;00m\n\u001b[1;32m   1132\u001b[0m full_backward_hooks, non_full_backward_hooks \u001b[38;5;241m=\u001b[39m [], []\n",
      "File \u001b[0;32m~/miniconda3/lib/python3.10/site-packages/torch/nn/modules/loss.py:530\u001b[0m, in \u001b[0;36mMSELoss.forward\u001b[0;34m(self, input, target)\u001b[0m\n\u001b[1;32m    529\u001b[0m \u001b[38;5;28;01mdef\u001b[39;00m \u001b[38;5;21mforward\u001b[39m(\u001b[38;5;28mself\u001b[39m, \u001b[38;5;28minput\u001b[39m: Tensor, target: Tensor) \u001b[38;5;241m-\u001b[39m\u001b[38;5;241m>\u001b[39m Tensor:\n\u001b[0;32m--> 530\u001b[0m     \u001b[38;5;28;01mreturn\u001b[39;00m \u001b[43mF\u001b[49m\u001b[38;5;241;43m.\u001b[39;49m\u001b[43mmse_loss\u001b[49m\u001b[43m(\u001b[49m\u001b[38;5;28;43minput\u001b[39;49m\u001b[43m,\u001b[49m\u001b[43m \u001b[49m\u001b[43mtarget\u001b[49m\u001b[43m,\u001b[49m\u001b[43m \u001b[49m\u001b[43mreduction\u001b[49m\u001b[38;5;241;43m=\u001b[39;49m\u001b[38;5;28;43mself\u001b[39;49m\u001b[38;5;241;43m.\u001b[39;49m\u001b[43mreduction\u001b[49m\u001b[43m)\u001b[49m\n",
      "File \u001b[0;32m~/miniconda3/lib/python3.10/site-packages/torch/nn/functional.py:3279\u001b[0m, in \u001b[0;36mmse_loss\u001b[0;34m(input, target, size_average, reduce, reduction)\u001b[0m\n\u001b[1;32m   3276\u001b[0m \u001b[38;5;28;01mif\u001b[39;00m size_average \u001b[38;5;129;01mis\u001b[39;00m \u001b[38;5;129;01mnot\u001b[39;00m \u001b[38;5;28;01mNone\u001b[39;00m \u001b[38;5;129;01mor\u001b[39;00m reduce \u001b[38;5;129;01mis\u001b[39;00m \u001b[38;5;129;01mnot\u001b[39;00m \u001b[38;5;28;01mNone\u001b[39;00m:\n\u001b[1;32m   3277\u001b[0m     reduction \u001b[38;5;241m=\u001b[39m _Reduction\u001b[38;5;241m.\u001b[39mlegacy_get_string(size_average, reduce)\n\u001b[0;32m-> 3279\u001b[0m expanded_input, expanded_target \u001b[38;5;241m=\u001b[39m \u001b[43mtorch\u001b[49m\u001b[38;5;241;43m.\u001b[39;49m\u001b[43mbroadcast_tensors\u001b[49m\u001b[43m(\u001b[49m\u001b[38;5;28;43minput\u001b[39;49m\u001b[43m,\u001b[49m\u001b[43m \u001b[49m\u001b[43mtarget\u001b[49m\u001b[43m)\u001b[49m\n\u001b[1;32m   3280\u001b[0m \u001b[38;5;28;01mreturn\u001b[39;00m torch\u001b[38;5;241m.\u001b[39m_C\u001b[38;5;241m.\u001b[39m_nn\u001b[38;5;241m.\u001b[39mmse_loss(expanded_input, expanded_target, _Reduction\u001b[38;5;241m.\u001b[39mget_enum(reduction))\n",
      "File \u001b[0;32m~/miniconda3/lib/python3.10/site-packages/torch/functional.py:73\u001b[0m, in \u001b[0;36mbroadcast_tensors\u001b[0;34m(*tensors)\u001b[0m\n\u001b[1;32m     71\u001b[0m \u001b[38;5;28;01mif\u001b[39;00m has_torch_function(tensors):\n\u001b[1;32m     72\u001b[0m     \u001b[38;5;28;01mreturn\u001b[39;00m handle_torch_function(broadcast_tensors, tensors, \u001b[38;5;241m*\u001b[39mtensors)\n\u001b[0;32m---> 73\u001b[0m \u001b[38;5;28;01mreturn\u001b[39;00m \u001b[43m_VF\u001b[49m\u001b[38;5;241;43m.\u001b[39;49m\u001b[43mbroadcast_tensors\u001b[49m\u001b[43m(\u001b[49m\u001b[43mtensors\u001b[49m\u001b[43m)\u001b[49m\n",
      "\u001b[0;31mKeyboardInterrupt\u001b[0m: "
     ]
    }
   ],
   "source": [
    "epochs = 50\n",
    "future = 40\n",
    "import matplotlib.pyplot as plt\n",
    "\n",
    "device = torch.device(\"cuda\" if torch.cuda.is_available() else \"cpu\")\n",
    "model.to(device)\n",
    "for i in range(epochs):\n",
    "    for seq, labels  in zip(X_train, y_train):\n",
    "        optimizer.zero_grad()\n",
    "        seq, labels = seq.to(device), labels.to(device)\n",
    "        y_pred = model(seq)\n",
    "        loss = criterion(y_pred, labels)\n",
    "        loss.backward()\n",
    "        optimizer.step()\n",
    "        \n",
    "    print(f\"Epoch {i} Loss: {loss.item()}\")\n",
    "    \n",
    "    # preds = X[-time_steps:].tolist()\n",
    "    # for f in range(future):\n",
    "    #     seq = torch.FloatTensor(preds[-time_steps:]).to(device)\n",
    "    #     with torch.no_grad():\n",
    "    #         model.reset_hidden(device)\n",
    "    #         preds.append(model(seq).item())\n",
    "        \n",
    "    # loss = criterion(torch.tensor(preds[-time_steps:]), y[760:])\n",
    "    # print(f\"Performance on test range: {loss}\")\n",
    "    \n",
    "    # plt.figure(figsize=(12,4))\n",
    "    # plt.xlim(700,801)\n",
    "    # plt.grid(True)\n",
    "    # plt.plot(y.numpy(),color='#8000ff')\n",
    "    # plt.plot(range(760,800),preds[time_steps:],color='#ff8000')\n",
    "    # plt.show()"
   ]
  },
  {
   "cell_type": "code",
   "execution_count": 268,
   "metadata": {},
   "outputs": [
    {
     "name": "stdout",
     "output_type": "stream",
     "text": [
      "Test Loss: 0.0190\n"
     ]
    }
   ],
   "source": [
    "model.eval()\n",
    "pred = []\n",
    "with torch.no_grad():\n",
    "    for seq, labels in zip(X_test, y_test):\n",
    "        seq, labels = seq.to(device), labels.to(device)\n",
    "        y_pred = model(seq)\n",
    "        pred.append(float(y_pred))\n",
    "        test_loss = criterion(y_pred, labels)\n",
    "    print(f'Test Loss: {test_loss.item():.4f}')"
   ]
  },
  {
   "cell_type": "markdown",
   "metadata": {},
   "source": [
    "SVR-windowed"
   ]
  },
  {
   "cell_type": "code",
   "execution_count": 45,
   "metadata": {},
   "outputs": [],
   "source": [
    "from sklearn.model_selection import train_test_split\n",
    "from sklearn.svm import SVR\n",
    "from sklearn.metrics import mean_squared_error, r2_score\n",
    "from sklearn.preprocessing import StandardScaler\n",
    "features = ['pri_supp_t','pri_back_t', 'pri_flow','sec_supp_t', 'sec_back_t', 'sec_flow', 'outdoor', 'irradiance']\n",
    "target = 'indoor'\n",
    "X = data_subset[features].values\n",
    "y = data_subset[target].values\n",
    "time_steps = 16  # 可以根据实际情况调整时间步长\n",
    "\n",
    "# 创建时间步长的输入数据\n",
    "X_sequence = []\n",
    "y_sequence = []\n",
    "for i in range(len(data_subset) - time_steps):\n",
    "    X_sequence.append(X[i:i+time_steps])\n",
    "    y_sequence.append(y[i+time_steps])\n",
    "\n",
    "X_sequence = np.array(X_sequence, dtype=np.float32)\n",
    "y_sequence = np.array(y_sequence, dtype=np.float32)\n",
    "\n",
    "# 划分训练集和测试集\n",
    "split = int(0.8 * len(X_sequence))\n",
    "X_train = torch.from_numpy(X_sequence[:split])\n",
    "y_train = torch.from_numpy(y_sequence[:split])\n",
    "X_test = torch.from_numpy(X_sequence[split:])\n",
    "y_test = torch.from_numpy(y_sequence[split:])\n",
    "scaler = StandardScaler()\n",
    "X_train_scaled = scaler.fit_transform(X_train.reshape( X_train.shape[0], -1))\n",
    "X_test_scaled = scaler.transform(X_test.reshape(X_test.shape[0],-1))\n",
    "\n",
    "# 创建 SVR 模型\n",
    "svr = SVR(kernel='rbf')  # 使用径向基函数核，也可以尝试其他核函数\n",
    "# 训练 SVR 模型\n",
    "svr.fit(X_train_scaled, y_train)\n",
    "# 预测测试集数据\n",
    "pred = svr.predict(X_test_scaled)\n",
    "# 模型评估\n",
    "mse = mean_squared_error(y_test, pred)\n",
    "r2 = r2_score(y_test, pred)"
   ]
  },
  {
   "cell_type": "markdown",
   "metadata": {},
   "source": [
    "MLP-windowed"
   ]
  },
  {
   "cell_type": "code",
   "execution_count": 25,
   "metadata": {},
   "outputs": [],
   "source": [
    "import numpy as np\n",
    "import torch\n",
    "from torch.utils.data import TensorDataset, DataLoader\n",
    "features = ['pri_supp_t','pri_back_t', 'pri_flow','sec_supp_t', 'sec_back_t', 'sec_flow', 'outdoor', 'irradiance']\n",
    "target = 'indoor'\n",
    "X = data_subset[features].values\n",
    "y = data_subset[target].values\n",
    "time_steps = 64  # 可以根据实际情况调整时间步长\n",
    "\n",
    "# 创建时间步长的输入数据\n",
    "X_sequence = []\n",
    "y_sequence = []\n",
    "for i in range(len(data_subset) - time_steps):\n",
    "    X_sequence.append(X[i:i+time_steps])\n",
    "    y_sequence.append(y[i+time_steps])\n",
    "\n",
    "X_sequence = np.array(X_sequence, dtype=np.float32)\n",
    "y_sequence = np.array(y_sequence, dtype=np.float32)\n",
    "\n",
    "# 划分训练集和测试集\n",
    "split = int(0.9 * len(X_sequence))\n",
    "X_train = torch.from_numpy(X_sequence[:split])\n",
    "y_train = torch.from_numpy(y_sequence[:split]).float()\n",
    "X_test = torch.from_numpy(X_sequence[split:])\n",
    "y_test = torch.from_numpy(y_sequence[split:]).float()\n",
    "# scaler = StandardScaler()\n",
    "# X_train_scaled = scaler.fit_transform(X_train.reshape( X_train.shape[0], -1))\n",
    "# X_test_scaled = scaler.transform(X_test.reshape(X_test.shape[0],-1))\n",
    "\n",
    "# 将 3D 特征数据整形为 2D，用于 SVR 的拟合和预测\n"
   ]
  },
  {
   "cell_type": "code",
   "execution_count": 27,
   "metadata": {},
   "outputs": [
    {
     "data": {
      "text/plain": [
       "torch.Size([10183, 64, 8])"
      ]
     },
     "execution_count": 27,
     "metadata": {},
     "output_type": "execute_result"
    }
   ],
   "source": [
    "X_train.shape"
   ]
  },
  {
   "cell_type": "code",
   "execution_count": 128,
   "metadata": {},
   "outputs": [
    {
     "data": {
      "text/plain": [
       "torch.Size([6, 128])"
      ]
     },
     "execution_count": 128,
     "metadata": {},
     "output_type": "execute_result"
    }
   ],
   "source": [
    "tokenizer = nn.Linear(X_train[0].shape[1] ,  128)\n",
    "tokenized_x = tokenizer(X_train[0])\n",
    "tokenizer(X_train[0]).shape"
   ]
  },
  {
   "cell_type": "code",
   "execution_count": 28,
   "metadata": {},
   "outputs": [],
   "source": [
    "pair = lambda x: x if isinstance(x, tuple) else (x, x)\n",
    "from functools import partial\n",
    "from torch import nn \n",
    "class PreNormResidual(nn.Module):\n",
    "    def __init__(self, dim, fn):\n",
    "        super().__init__()\n",
    "        self.fn = fn\n",
    "        self.norm = nn.LayerNorm(dim)\n",
    "\n",
    "    def forward(self, x):\n",
    "        return self.fn(self.norm(x)) + x\n",
    "\n",
    "def FeedForward(dim, expansion_factor = 4, dropout = 0., dense = nn.Linear):\n",
    "    inner_dim = int(dim * expansion_factor)\n",
    "    return nn.Sequential(\n",
    "        dense(dim, inner_dim),\n",
    "        nn.GELU(),\n",
    "        nn.Dropout(dropout),\n",
    "        dense(inner_dim, dim),\n",
    "        nn.Dropout(dropout)\n",
    "    )\n",
    "\n",
    "class MLPMixer(nn.Module):\n",
    "    def __init__(self, depth,feaure_in,  dim, num_patches, expansion_factor = 4, expansion_factor_token = 0.5, dropout = 0., batched=True):\n",
    "        super(MLPMixer, self).__init__()\n",
    "        self.device = torch.device(\"cuda:2\" if torch.cuda.is_available() else \"cpu\")\n",
    "        self.chan_first, self.chan_last = partial(nn.Conv1d, kernel_size = 1), nn.Linear\n",
    "        self.tokenizer = nn.Linear(feaure_in,  dim)\n",
    "        self.mixer = nn.Sequential(*[nn.Sequential(\n",
    "            PreNormResidual(dim, FeedForward(num_patches, expansion_factor, dropout, self.chan_first)),\n",
    "            PreNormResidual(dim, FeedForward(dim, expansion_factor_token, dropout, self.chan_last))\n",
    "        ) for _ in range(depth)])\n",
    "        self.norm = nn.LayerNorm(dim)\n",
    "        self.predictor = nn.Linear(dim, 1)\n",
    "        self.batched = batched\n",
    "\n",
    "    def forward(self, x):\n",
    "        x = x.to(self.device)\n",
    "        x = self.tokenizer(x)\n",
    "        x = self.mixer(x)\n",
    "        x = x.mean(dim=1) if self.batched else  x.mean(dim=0)\n",
    "        y = self.predictor(x)\n",
    "        return y"
   ]
  },
  {
   "cell_type": "code",
   "execution_count": 29,
   "metadata": {},
   "outputs": [
    {
     "name": "stdout",
     "output_type": "stream",
     "text": [
      "Epoch [20/200], Loss: 0.3754\n",
      "Epoch [40/200], Loss: 0.1984\n",
      "Epoch [60/200], Loss: 0.9399\n",
      "early stop\n"
     ]
    }
   ],
   "source": [
    "from sklearn.metrics import mean_squared_error, r2_score\n",
    "d = 16\n",
    "dim=256\n",
    "dropout = 0.1\n",
    "model = MLPMixer(depth=d, feaure_in=X_train[0].shape[1], dim = dim, num_patches=X_train[0].shape[0], dropout=dropout)\n",
    "device = torch.device(\"cuda:2\" if torch.cuda.is_available() else \"cpu\")\n",
    "# 定义损失函数和优化器\n",
    "criterion = nn.MSELoss()\n",
    "optimizer = torch.optim.Adam(model.parameters(), lr=0.002, weight_decay=0.001)  # 可以根据需要调整学习率和优化器\n",
    "model.to(device)\n",
    "# 训练模型\n",
    "num_epochs = 200\n",
    "batch_size = 400\n",
    "\n",
    "# 创建 DataLoader\n",
    "train_loader = DataLoader(range(len(X_train)), batch_size=batch_size, shuffle=True)\n",
    "test_loader = DataLoader(range(len(X_test)), batch_size=batch_size, shuffle=False)\n",
    "loss_min = 100\n",
    "model_save = None\n",
    "patience = 0\n",
    "for epoch in range(num_epochs):\n",
    "    model.train()\n",
    "    if patience >=30:\n",
    "        print('early stop')\n",
    "        break\n",
    "    for perm in train_loader:\n",
    "        optimizer.zero_grad()\n",
    "        outputs = model(X_train[perm])\n",
    "        y = y_train[perm].to(device)\n",
    "        loss = criterion(outputs.view(-1), y)\n",
    "        loss.backward()\n",
    "        optimizer.step()\n",
    "    if (epoch+1) % 20 == 0:\n",
    "        print(f'Epoch [{epoch+1}/{num_epochs}], Loss: {loss.item():.4f}')\n",
    "    if loss.item()< loss_min:\n",
    "        model_save = model\n",
    "        loss_min = loss.item()\n",
    "        patience=0\n",
    "    else:\n",
    "        patience+=1"
   ]
  },
  {
   "cell_type": "code",
   "execution_count": 30,
   "metadata": {},
   "outputs": [
    {
     "data": {
      "text/plain": [
       "0.13230645656585693"
      ]
     },
     "execution_count": 30,
     "metadata": {},
     "output_type": "execute_result"
    }
   ],
   "source": [
    "loss_min"
   ]
  },
  {
   "cell_type": "code",
   "execution_count": null,
   "metadata": {},
   "outputs": [],
   "source": [
    "import json\n",
    "import torch\n",
    "config = json.load(open('/home/yuleliu/art/model_weight/model_config.json','r'))\n",
    "model = MLPMixer(**config,batched=True)\n",
    "model.to(model.device)\n",
    "model.load_state_dict(torch.load('/home/yuleliu/art/model_weight/model_10m_step64_dropout_0.1_dim_256_layer_16_test_0.274868298345625.pth'))\n",
    "model_save = model\n",
    "criterion = nn.MSELoss()\n",
    "device = torch.device(\"cuda:2\" if torch.cuda.is_available() else \"cpu\")"
   ]
  },
  {
   "cell_type": "code",
   "execution_count": 43,
   "metadata": {},
   "outputs": [
    {
     "name": "stdout",
     "output_type": "stream",
     "text": [
      "R2 score is 0.1226286306417057\n",
      "Test Loss: 0.2509\n"
     ]
    }
   ],
   "source": [
    "from sklearn.metrics import mean_squared_error, r2_score\n",
    "model = model_save\n",
    "# 在测试集上进行预测\n",
    "model.eval()\n",
    "with torch.no_grad():\n",
    "    test_outputs = model(X_test)\n",
    "    test_loss = criterion(test_outputs.view(-1), y_test.to(device))\n",
    "    print(f'R2 score is {r2_score(y_test, test_outputs.view(-1).cpu())}')\n",
    "    print(f'Test Loss: {test_loss.item():.4f}')\n",
    "pred = test_outputs.to('cpu').numpy().flatten()\n",
    "torch.save(model.state_dict(), f'model_weight/model_step{time_steps}_dropout_{dropout}_dim_{dim}_layer_{d}_test_{r2_score(y_test, test_outputs.view(-1).cpu())}.pth')\n",
    "l = y_test"
   ]
  },
  {
   "cell_type": "code",
   "execution_count": 172,
   "metadata": {},
   "outputs": [
    {
     "name": "stdout",
     "output_type": "stream",
     "text": [
      "R2 score is -2.027457702170393\n",
      "Test Loss: 1.0651\n"
     ]
    }
   ],
   "source": [
    "model = model_save\n",
    "model.eval()\n",
    "with torch.no_grad():\n",
    "    test_outputs = model(X_train)\n",
    "    test_loss = criterion(test_outputs.view(-1), y_train.to(device))\n",
    "    print(f'R2 score is {r2_score(y_train, test_outputs.view(-1).cpu())}')\n",
    "    print(f'Test Loss: {test_loss.item():.4f}')\n",
    "pred = test_outputs.to('cpu').numpy().flatten()\n",
    "l = y_train"
   ]
  },
  {
   "cell_type": "markdown",
   "metadata": {},
   "source": [
    "Draw result"
   ]
  },
  {
   "cell_type": "code",
   "execution_count": 33,
   "metadata": {},
   "outputs": [
    {
     "data": {
      "image/png": "[encoded data removed]",
      "text/plain": [
       "<Figure size 1200x600 with 1 Axes>"
      ]
     },
     "metadata": {},
     "output_type": "display_data"
    }
   ],
   "source": [
    "import matplotlib.pyplot as plt\n",
    "\n",
    "# 假设 y_test 和 y_pred 是真实值和预测值\n",
    "plt.figure(figsize=(12, 6))\n",
    "\n",
    "# 画出真实值 y_test\n",
    "plt.plot(l, label='Actual', color='blue')\n",
    "\n",
    "# 画出预测值 y_pred\n",
    "plt.plot(pred, label='Predicted', color='red')\n",
    "\n",
    "plt.title('Actual vs Predicted')\n",
    "plt.xlabel('Index')\n",
    "plt.ylabel('Value')\n",
    "plt.legend()\n",
    "plt.grid(True)\n",
    "plt.tight_layout()\n",
    "\n",
    "plt.show()\n"
   ]
  },
  {
   "cell_type": "code",
   "execution_count": 22,
   "metadata": {},
   "outputs": [],
   "source": [
    "torch.save(model.state_dict(), 'model_step64_layer_16_test_0.54.pth')"
   ]
  },
  {
   "cell_type": "markdown",
   "metadata": {},
   "source": [
    "Get real temp"
   ]
  },
  {
   "cell_type": "code",
   "execution_count": 53,
   "metadata": {},
   "outputs": [
    {
     "name": "stderr",
     "output_type": "stream",
     "text": [
      "/tmp/ipykernel_54579/2728837999.py:11: SettingWithCopyWarning: \n",
      "A value is trying to be set on a copy of a slice from a DataFrame\n",
      "\n",
      "See the caveats in the documentation: https://pandas.pydata.org/pandas-docs/stable/user_guide/indexing.html#returning-a-view-versus-a-copy\n",
      "  data_subset.dropna(inplace=True)\n",
      "/tmp/ipykernel_54579/2728837999.py:11: SettingWithCopyWarning: \n",
      "A value is trying to be set on a copy of a slice from a DataFrame\n",
      "\n",
      "See the caveats in the documentation: https://pandas.pydata.org/pandas-docs/stable/user_guide/indexing.html#returning-a-view-versus-a-copy\n",
      "  data_subset.dropna(inplace=True)\n"
     ]
    }
   ],
   "source": [
    "def get_seq(excel_file):\n",
    "    import pandas as pd\n",
    "    data1 = pd.read_excel(excel_file, sheet_name='Sheet1')\n",
    "    data1['date'] = pd.to_datetime(data1['date'])\n",
    "    data2 = pd.read_excel(excel_file, sheet_name='Sheet2')\n",
    "    data2['date'] = pd.to_datetime(data2['date'])\n",
    "    merged_data = pd.merge_asof(data1, data2, on='date', tolerance=pd.Timedelta('1H'))\n",
    "    merged_data.keys()\n",
    "    selected_columns = ['pri_supp_t','pri_back_t', 'pri_flow', 'sec_supp_t', 'sec_back_t', 'sec_flow', 'outdoor', 'irradiance']\n",
    "    data_subset = merged_data[selected_columns]\n",
    "    data_subset.dropna(inplace=True)\n",
    "    X = data_subset.values\n",
    "    return X\n",
    "\n",
    "def load_test_data(time_steps):\n",
    "    X1, X2 = get_seq('data/train.xlsx'), get_seq('data/test.xlsx')\n",
    "    X = np.concatenate([X1[-64:], X2], axis=0)\n",
    "    X_sequence = []\n",
    "    tmp = []\n",
    "    for i in range(len(X) - time_steps):\n",
    "        tmp.append(X[i:i+time_steps])\n",
    "        X_sequence.append((np.concatenate(X[i:i+time_steps])))\n",
    "    X_sequence = np.array(X_sequence, dtype=np.float32)\n",
    "    return X_sequence, np.array(tmp, dtype=np.float32 )\n",
    "\n",
    "\n",
    "test_real = load_test_data(64)[1]"
   ]
  },
  {
   "cell_type": "code",
   "execution_count": 54,
   "metadata": {},
   "outputs": [],
   "source": [
    "test_real = torch.from_numpy(test_real)\n",
    "from sklearn.metrics import mean_squared_error, r2_score\n",
    "model = model_save\n",
    "# 在测试集上进行预测\n",
    "model.eval()\n",
    "with torch.no_grad():\n",
    "    test_outputs = model(test_real)\n",
    "pred = test_outputs.to('cpu').numpy().flatten()"
   ]
  },
  {
   "cell_type": "code",
   "execution_count": 55,
   "metadata": {},
   "outputs": [
    {
     "data": {
      "text/plain": [
       "(4747,)"
      ]
     },
     "execution_count": 55,
     "metadata": {},
     "output_type": "execute_result"
    }
   ],
   "source": [
    "pred.shape"
   ]
  },
  {
   "cell_type": "code",
   "execution_count": 56,
   "metadata": {},
   "outputs": [],
   "source": [
    "pd.DataFrame(pred).to_excel('tem_10m.xlsx')"
   ]
  },
  {
   "cell_type": "code",
   "execution_count": 60,
   "metadata": {},
   "outputs": [],
   "source": [
    "df = pd.DataFrame([[1],[2]])\n",
    "df['new'] = [1,2]"
   ]
  },
  {
   "cell_type": "code",
   "execution_count": 63,
   "metadata": {},
   "outputs": [
    {
     "ename": "ParserError",
     "evalue": "Error tokenizing data. C error: Expected 3 fields in line 9, saw 4\n",
     "output_type": "error",
     "traceback": [
      "\u001b[0;31m---------------------------------------------------------------------------\u001b[0m",
      "\u001b[0;31mParserError\u001b[0m                               Traceback (most recent call last)",
      "Cell \u001b[0;32mIn[63], line 1\u001b[0m\n\u001b[0;32m----> 1\u001b[0m \u001b[43mpd\u001b[49m\u001b[38;5;241;43m.\u001b[39;49m\u001b[43mread_csv\u001b[49m\u001b[43m(\u001b[49m\u001b[38;5;124;43m'\u001b[39;49m\u001b[38;5;124;43m./data/test.xlsx\u001b[39;49m\u001b[38;5;124;43m'\u001b[39;49m\u001b[43m)\u001b[49m[[\u001b[38;5;124m'\u001b[39m\u001b[38;5;124mdate\u001b[39m\u001b[38;5;124m'\u001b[39m]]\n",
      "File \u001b[0;32m~/miniconda3/lib/python3.10/site-packages/pandas/io/parsers.py:610\u001b[0m, in \u001b[0;36mread_csv\u001b[0;34m(filepath_or_buffer, sep, delimiter, header, names, index_col, usecols, squeeze, prefix, mangle_dupe_cols, dtype, engine, converters, true_values, false_values, skipinitialspace, skiprows, skipfooter, nrows, na_values, keep_default_na, na_filter, verbose, skip_blank_lines, parse_dates, infer_datetime_format, keep_date_col, date_parser, dayfirst, cache_dates, iterator, chunksize, compression, thousands, decimal, lineterminator, quotechar, quoting, doublequote, escapechar, comment, encoding, dialect, error_bad_lines, warn_bad_lines, delim_whitespace, low_memory, memory_map, float_precision, storage_options)\u001b[0m\n\u001b[1;32m    605\u001b[0m kwds_defaults \u001b[38;5;241m=\u001b[39m _refine_defaults_read(\n\u001b[1;32m    606\u001b[0m     dialect, delimiter, delim_whitespace, engine, sep, defaults\u001b[38;5;241m=\u001b[39m{\u001b[38;5;124m\"\u001b[39m\u001b[38;5;124mdelimiter\u001b[39m\u001b[38;5;124m\"\u001b[39m: \u001b[38;5;124m\"\u001b[39m\u001b[38;5;124m,\u001b[39m\u001b[38;5;124m\"\u001b[39m}\n\u001b[1;32m    607\u001b[0m )\n\u001b[1;32m    608\u001b[0m kwds\u001b[38;5;241m.\u001b[39mupdate(kwds_defaults)\n\u001b[0;32m--> 610\u001b[0m \u001b[38;5;28;01mreturn\u001b[39;00m \u001b[43m_read\u001b[49m\u001b[43m(\u001b[49m\u001b[43mfilepath_or_buffer\u001b[49m\u001b[43m,\u001b[49m\u001b[43m \u001b[49m\u001b[43mkwds\u001b[49m\u001b[43m)\u001b[49m\n",
      "File \u001b[0;32m~/miniconda3/lib/python3.10/site-packages/pandas/io/parsers.py:468\u001b[0m, in \u001b[0;36m_read\u001b[0;34m(filepath_or_buffer, kwds)\u001b[0m\n\u001b[1;32m    465\u001b[0m     \u001b[38;5;28;01mreturn\u001b[39;00m parser\n\u001b[1;32m    467\u001b[0m \u001b[38;5;28;01mwith\u001b[39;00m parser:\n\u001b[0;32m--> 468\u001b[0m     \u001b[38;5;28;01mreturn\u001b[39;00m \u001b[43mparser\u001b[49m\u001b[38;5;241;43m.\u001b[39;49m\u001b[43mread\u001b[49m\u001b[43m(\u001b[49m\u001b[43mnrows\u001b[49m\u001b[43m)\u001b[49m\n",
      "File \u001b[0;32m~/miniconda3/lib/python3.10/site-packages/pandas/io/parsers.py:1057\u001b[0m, in \u001b[0;36mTextFileReader.read\u001b[0;34m(self, nrows)\u001b[0m\n\u001b[1;32m   1055\u001b[0m \u001b[38;5;28;01mdef\u001b[39;00m \u001b[38;5;21mread\u001b[39m(\u001b[38;5;28mself\u001b[39m, nrows\u001b[38;5;241m=\u001b[39m\u001b[38;5;28;01mNone\u001b[39;00m):\n\u001b[1;32m   1056\u001b[0m     nrows \u001b[38;5;241m=\u001b[39m validate_integer(\u001b[38;5;124m\"\u001b[39m\u001b[38;5;124mnrows\u001b[39m\u001b[38;5;124m\"\u001b[39m, nrows)\n\u001b[0;32m-> 1057\u001b[0m     index, columns, col_dict \u001b[38;5;241m=\u001b[39m \u001b[38;5;28;43mself\u001b[39;49m\u001b[38;5;241;43m.\u001b[39;49m\u001b[43m_engine\u001b[49m\u001b[38;5;241;43m.\u001b[39;49m\u001b[43mread\u001b[49m\u001b[43m(\u001b[49m\u001b[43mnrows\u001b[49m\u001b[43m)\u001b[49m\n\u001b[1;32m   1059\u001b[0m     \u001b[38;5;28;01mif\u001b[39;00m index \u001b[38;5;129;01mis\u001b[39;00m \u001b[38;5;28;01mNone\u001b[39;00m:\n\u001b[1;32m   1060\u001b[0m         \u001b[38;5;28;01mif\u001b[39;00m col_dict:\n\u001b[1;32m   1061\u001b[0m             \u001b[38;5;66;03m# Any column is actually fine:\u001b[39;00m\n",
      "File \u001b[0;32m~/miniconda3/lib/python3.10/site-packages/pandas/io/parsers.py:2061\u001b[0m, in \u001b[0;36mCParserWrapper.read\u001b[0;34m(self, nrows)\u001b[0m\n\u001b[1;32m   2059\u001b[0m \u001b[38;5;28;01mdef\u001b[39;00m \u001b[38;5;21mread\u001b[39m(\u001b[38;5;28mself\u001b[39m, nrows\u001b[38;5;241m=\u001b[39m\u001b[38;5;28;01mNone\u001b[39;00m):\n\u001b[1;32m   2060\u001b[0m     \u001b[38;5;28;01mtry\u001b[39;00m:\n\u001b[0;32m-> 2061\u001b[0m         data \u001b[38;5;241m=\u001b[39m \u001b[38;5;28;43mself\u001b[39;49m\u001b[38;5;241;43m.\u001b[39;49m\u001b[43m_reader\u001b[49m\u001b[38;5;241;43m.\u001b[39;49m\u001b[43mread\u001b[49m\u001b[43m(\u001b[49m\u001b[43mnrows\u001b[49m\u001b[43m)\u001b[49m\n\u001b[1;32m   2062\u001b[0m     \u001b[38;5;28;01mexcept\u001b[39;00m \u001b[38;5;167;01mStopIteration\u001b[39;00m:\n\u001b[1;32m   2063\u001b[0m         \u001b[38;5;28;01mif\u001b[39;00m \u001b[38;5;28mself\u001b[39m\u001b[38;5;241m.\u001b[39m_first_chunk:\n",
      "File \u001b[0;32mpandas/_libs/parsers.pyx:756\u001b[0m, in \u001b[0;36mpandas._libs.parsers.TextReader.read\u001b[0;34m()\u001b[0m\n",
      "File \u001b[0;32mpandas/_libs/parsers.pyx:771\u001b[0m, in \u001b[0;36mpandas._libs.parsers.TextReader._read_low_memory\u001b[0;34m()\u001b[0m\n",
      "File \u001b[0;32mpandas/_libs/parsers.pyx:827\u001b[0m, in \u001b[0;36mpandas._libs.parsers.TextReader._read_rows\u001b[0;34m()\u001b[0m\n",
      "File \u001b[0;32mpandas/_libs/parsers.pyx:814\u001b[0m, in \u001b[0;36mpandas._libs.parsers.TextReader._tokenize_rows\u001b[0;34m()\u001b[0m\n",
      "File \u001b[0;32mpandas/_libs/parsers.pyx:1951\u001b[0m, in \u001b[0;36mpandas._libs.parsers.raise_parser_error\u001b[0;34m()\u001b[0m\n",
      "\u001b[0;31mParserError\u001b[0m: Error tokenizing data. C error: Expected 3 fields in line 9, saw 4\n"
     ]
    }
   ],
   "source": [
    "pd.read_csv('./data/test.xlsx')[['date']]"
   ]
  }
 ],
 "metadata": {
  "kernelspec": {
   "display_name": "base",
   "language": "python",
   "name": "python3"
  },
  "language_info": {
   "codemirror_mode": {
    "name": "ipython",
    "version": 3
   },
   "file_extension": ".py",
   "mimetype": "text/x-python",
   "name": "python",
   "nbconvert_exporter": "python",
   "pygments_lexer": "ipython3",
   "version": "3.10.12"
  }
 },
 "nbformat": 4,
 "nbformat_minor": 2
}
