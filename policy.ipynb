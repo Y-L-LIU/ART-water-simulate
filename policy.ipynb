{
 "cells": [
  {
   "cell_type": "code",
   "execution_count": 1,
   "metadata": {},
   "outputs": [],
   "source": [
    "%load_ext autoreload\n",
    "%autoreload 2"
   ]
  },
  {
   "cell_type": "code",
   "execution_count": 2,
   "metadata": {},
   "outputs": [],
   "source": [
    "from typing import Any, Dict, Optional\n",
    "\n",
    "import gymnasium as gym\n",
    "from gymnasium import spaces\n",
    "from gymnasium.envs.registration import EnvSpec\n",
    "from gymnasium.utils import seeding\n",
    "from gymnasium.envs.registration import register\n",
    "import numpy as np\n",
    "from openrl.envs.common import make"
   ]
  },
  {
   "cell_type": "code",
   "execution_count": 44,
   "metadata": {},
   "outputs": [],
   "source": [
    "def load_data(time_steps,excel_file = 'data/train.xlsx'):\n",
    "    import pandas as pd\n",
    "    data1 = pd.read_excel(excel_file, sheet_name='Sheet1')\n",
    "    data1['date'] = pd.to_datetime(data1['date'])\n",
    "    data2 = pd.read_excel(excel_file, sheet_name='Sheet2')\n",
    "    data2['date'] = pd.to_datetime(data2['date'])\n",
    "    merged_data = pd.merge_asof(data2, data1, on='date', tolerance=pd.Timedelta('1H'))\n",
    "    \n",
    "    merged_data.keys()\n",
    "    selected_columns = ['pri_supp_t','pri_back_t', 'pri_flow', 'sec_supp_t', 'sec_back_t', 'sec_flow', 'outdoor', 'irradiance']\n",
    "    data_subset = merged_data[selected_columns]\n",
    "    data_subset.dropna(inplace=True)\n",
    "    X = data_subset.values\n",
    "    X_sequence = []\n",
    "    for i in range(len(data_subset) - time_steps):\n",
    "        X_sequence.append(X[i:i+time_steps])\n",
    "    X_sequence = np.array(X_sequence, dtype=np.float32)\n",
    "    return X_sequence    "
   ]
  },
  {
   "cell_type": "code",
   "execution_count": 45,
   "metadata": {},
   "outputs": [
    {
     "name": "stderr",
     "output_type": "stream",
     "text": [
      "/tmp/ipykernel_54827/3787778844.py:12: SettingWithCopyWarning: \n",
      "A value is trying to be set on a copy of a slice from a DataFrame\n",
      "\n",
      "See the caveats in the documentation: https://pandas.pydata.org/pandas-docs/stable/user_guide/indexing.html#returning-a-view-versus-a-copy\n",
      "  data_subset.dropna(inplace=True)\n",
      "/tmp/ipykernel_54827/3787778844.py:12: SettingWithCopyWarning: \n",
      "A value is trying to be set on a copy of a slice from a DataFrame\n",
      "\n",
      "See the caveats in the documentation: https://pandas.pydata.org/pandas-docs/stable/user_guide/indexing.html#returning-a-view-versus-a-copy\n",
      "  data_subset.dropna(inplace=True)\n"
     ]
    }
   ],
   "source": [
    "def load_test_data(time_steps):\n",
    "    df1, df2 = load_data(time_steps, 'data/train.xlsx'), load_data(time_steps, 'data/test.xlsx')\n",
    "time_steps=64\n",
    "df1, df2 = load_data(time_steps, 'data/train.xlsx'), load_data(time_steps, 'data/test.xlsx') "
   ]
  },
  {
   "cell_type": "code",
   "execution_count": 53,
   "metadata": {},
   "outputs": [
    {
     "name": "stderr",
     "output_type": "stream",
     "text": [
      "/tmp/ipykernel_54827/1843467505.py:11: SettingWithCopyWarning: \n",
      "A value is trying to be set on a copy of a slice from a DataFrame\n",
      "\n",
      "See the caveats in the documentation: https://pandas.pydata.org/pandas-docs/stable/user_guide/indexing.html#returning-a-view-versus-a-copy\n",
      "  data_subset.dropna(inplace=True)\n"
     ]
    }
   ],
   "source": [
    "excel_file='data/test.xlsx'\n",
    "data1 = pd.read_excel(excel_file, sheet_name='Sheet1')\n",
    "data1['date'] = pd.to_datetime(data1['date'])\n",
    "data2 = pd.read_excel(excel_file, sheet_name='Sheet2')\n",
    "data2['date'] = pd.to_datetime(data2['date'])\n",
    "merged_data = pd.merge_asof(data2, data1, on='date', tolerance=pd.Timedelta('1H'))\n",
    "    \n",
    "merged_data.keys()\n",
    "selected_columns = ['pri_supp_t','pri_back_t', 'pri_flow', 'sec_supp_t', 'sec_back_t', 'sec_flow', 'outdoor', 'irradiance']\n",
    "data_subset = merged_data[selected_columns]\n",
    "data_subset.dropna(inplace=True)\n",
    "data_subset.to_excel('test_1H.xlsx')"
   ]
  },
  {
   "cell_type": "code",
   "execution_count": 54,
   "metadata": {},
   "outputs": [
    {
     "data": {
      "text/html": [
       "<div>\n",
       "<style scoped>\n",
       "    .dataframe tbody tr th:only-of-type {\n",
       "        vertical-align: middle;\n",
       "    }\n",
       "\n",
       "    .dataframe tbody tr th {\n",
       "        vertical-align: top;\n",
       "    }\n",
       "\n",
       "    .dataframe thead th {\n",
       "        text-align: right;\n",
       "    }\n",
       "</style>\n",
       "<table border=\"1\" class=\"dataframe\">\n",
       "  <thead>\n",
       "    <tr style=\"text-align: right;\">\n",
       "      <th></th>\n",
       "      <th>35.27421075105667</th>\n",
       "    </tr>\n",
       "  </thead>\n",
       "  <tbody>\n",
       "    <tr>\n",
       "      <th>0</th>\n",
       "      <td>35.168649</td>\n",
       "    </tr>\n",
       "    <tr>\n",
       "      <th>1</th>\n",
       "      <td>34.622148</td>\n",
       "    </tr>\n",
       "    <tr>\n",
       "      <th>2</th>\n",
       "      <td>34.408810</td>\n",
       "    </tr>\n",
       "    <tr>\n",
       "      <th>3</th>\n",
       "      <td>34.770434</td>\n",
       "    </tr>\n",
       "    <tr>\n",
       "      <th>4</th>\n",
       "      <td>34.807287</td>\n",
       "    </tr>\n",
       "    <tr>\n",
       "      <th>...</th>\n",
       "      <td>...</td>\n",
       "    </tr>\n",
       "    <tr>\n",
       "      <th>994</th>\n",
       "      <td>38.131979</td>\n",
       "    </tr>\n",
       "    <tr>\n",
       "      <th>995</th>\n",
       "      <td>38.431385</td>\n",
       "    </tr>\n",
       "    <tr>\n",
       "      <th>996</th>\n",
       "      <td>38.596525</td>\n",
       "    </tr>\n",
       "    <tr>\n",
       "      <th>997</th>\n",
       "      <td>38.289902</td>\n",
       "    </tr>\n",
       "    <tr>\n",
       "      <th>998</th>\n",
       "      <td>38.706165</td>\n",
       "    </tr>\n",
       "  </tbody>\n",
       "</table>\n",
       "<p>999 rows × 1 columns</p>\n",
       "</div>"
      ],
      "text/plain": [
       "     35.27421075105667\n",
       "0            35.168649\n",
       "1            34.622148\n",
       "2            34.408810\n",
       "3            34.770434\n",
       "4            34.807287\n",
       "..                 ...\n",
       "994          38.131979\n",
       "995          38.431385\n",
       "996          38.596525\n",
       "997          38.289902\n",
       "998          38.706165\n",
       "\n",
       "[999 rows x 1 columns]"
      ]
     },
     "execution_count": 54,
     "metadata": {},
     "output_type": "execute_result"
    }
   ],
   "source": [
    "import pandas as pd\n",
    "\n",
    "\n",
    "# 读取 CSV 文件\n",
    "csv_file = 'output.csv'  # 请替换为您的 CSV 文件名\n",
    "data = pd.read_csv(csv_file)\n",
    "data"
   ]
  },
  {
   "cell_type": "code",
   "execution_count": null,
   "metadata": {},
   "outputs": [],
   "source": [
    "\n",
    "# 将数据写入 Excel 文件\n",
    "xlsx_file = 'output.xlsx'  # 指定输出的 Excel 文件名\n",
    "data.to_excel(xlsx_file, index=False)\n",
    "\n",
    "print(f\"已将 {csv_file} 转换为 {xlsx_file}\")\n"
   ]
  },
  {
   "cell_type": "code",
   "execution_count": 30,
   "metadata": {},
   "outputs": [
    {
     "data": {
      "text/plain": [
       "(791, 8)"
      ]
     },
     "execution_count": 30,
     "metadata": {},
     "output_type": "execute_result"
    }
   ],
   "source": [
    "data_subset.shape"
   ]
  },
  {
   "cell_type": "code",
   "execution_count": 110,
   "metadata": {},
   "outputs": [],
   "source": [
    "from src.mlpmixer import MLPMixer\n",
    "import json"
   ]
  },
  {
   "cell_type": "code",
   "execution_count": 189,
   "metadata": {},
   "outputs": [
    {
     "name": "stderr",
     "output_type": "stream",
     "text": [
      "/tmp/ipykernel_102765/3925532614.py:13: SettingWithCopyWarning: \n",
      "A value is trying to be set on a copy of a slice from a DataFrame\n",
      "\n",
      "See the caveats in the documentation: https://pandas.pydata.org/pandas-docs/stable/user_guide/indexing.html#returning-a-view-versus-a-copy\n",
      "  data_subset.dropna(inplace=True)\n"
     ]
    }
   ],
   "source": [
    "import torch\n",
    "def load_data(time_steps):\n",
    "    import pandas as pd\n",
    "    excel_file = 'data/train.xlsx'\n",
    "    data1 = pd.read_excel(excel_file, sheet_name='Sheet1')\n",
    "    data1['date'] = pd.to_datetime(data1['date'])\n",
    "    data2 = pd.read_excel(excel_file, sheet_name='Sheet2')\n",
    "    data2['date'] = pd.to_datetime(data2['date'])\n",
    "    merged_data = pd.merge_asof(data1, data2, on='date', tolerance=pd.Timedelta('1H'))\n",
    "    merged_data.keys()\n",
    "    selected_columns = ['pri_supp_t','pri_back_t', 'pri_flow', 'sec_supp_t', 'sec_back_t', 'sec_flow', 'outdoor', 'irradiance']\n",
    "    data_subset = merged_data[selected_columns]\n",
    "    data_subset.dropna(inplace=True)\n",
    "    X = data_subset.values\n",
    "    X_sequence = []\n",
    "    tmp=[]\n",
    "    for i in range(len(data_subset) - time_steps):\n",
    "        tmp.append(X[i:i+time_steps])\n",
    "        X_sequence.append((np.concatenate(X[i:i+time_steps])))\n",
    "    X_sequence = np.array(X_sequence, dtype=np.float32)\n",
    "    return X_sequence, np.array(tmp, dtype=np.float32 )\n",
    "\n",
    "def yield_data(data):\n",
    "    for x in data:\n",
    "        yield x\n",
    "\n",
    "def load_config(path):\n",
    "    return json.load(path, 'r')\n",
    "\n",
    "class IdentityEnv(gym.Env):\n",
    "    spec = EnvSpec(\"IdentityEnv\")\n",
    "    def __init__(self,time_steps,path_to_model):\n",
    "        self.dim = 2\n",
    "        self.observation_space = spaces.Discrete(1)\n",
    "        self.action_space = spaces.Discrete(self.dim)\n",
    "        self.time_steps = time_steps\n",
    "        self.current_step = 0\n",
    "        datas, tmp = load_data(time_steps)\n",
    "        self.ep_length = len(datas)\n",
    "        self.yield_data = yield_data(datas)\n",
    "        self.yield_predict = yield_data(tmp)\n",
    "        #config for openrl\n",
    "        self.agent_num=1\n",
    "        self.parallel_env_num = 1      \n",
    "        self.env_name = 'water'  \n",
    "        # Get action space\n",
    "        self.action_space = gym.spaces.Box(low=-2, high=2, shape=(1,))\n",
    "        # Get observation space\n",
    "        max_value = []\n",
    "        min_value = []\n",
    "        for i in range(8):\n",
    "            max_value.append(round(data[:,:,i].max())+1)\n",
    "            min_value.append(round(data[:,:,i].min())-1)\n",
    "        self.observation_space = gym.spaces.Box(low=np.array([min_value]*time_steps), high=np.array([max_value]*time_steps),shape=(time_steps,8))\n",
    "        #import the simulator\n",
    "        config = json.load(open('/home/yuleliu/art/model_weight/model_config.json','r'))\n",
    "        self.model = MLPMixer(**config,batched=False)\n",
    "        self.model.to(self.model.device)\n",
    "        self.model.load_state_dict(torch.load(path_to_model))\n",
    "\n",
    "    def reset(\n",
    "            self,\n",
    "            *,\n",
    "            seed: Optional[int] = None,\n",
    "            options: Optional[Dict[str, Any]] = None,\n",
    "    ):\n",
    "        if seed is not None:\n",
    "            self.seed(seed)\n",
    "        self.current_step = 0\n",
    "        datas, tmp = load_data(self.time_steps)\n",
    "        self.yield_data = yield_data(datas)\n",
    "        self.yield_predict = yield_data(tmp)\n",
    "        return next(self.yield_data), {}\n",
    "    \n",
    "    def get_tem(self, x):\n",
    "        with torch.no_grad():\n",
    "            self.model.eval()\n",
    "            predicted = self.model(torch.from_numpy(next(env.yield_data)))\n",
    "        return float(predicted)\n",
    "\n",
    "    def step(self, action) :\n",
    "        state = next(self.yield_data)\n",
    "        tem_origin = state[-1,3]\n",
    "        state[-1,3] = state[-1,3]+action\n",
    "        tem_in = self.get_tem(state)\n",
    "        reward = 0\n",
    "        if 20<=tem_in<=24:\n",
    "            reward+=1\n",
    "            if state[-1,3]<tem_origin:\n",
    "                reward+=0.5\n",
    "            else:\n",
    "                reward-=0.5\n",
    "        else:\n",
    "            reward-=1\n",
    "        # print(state[-1,3],tem_origin,tem_in)\n",
    "        self.current_step += 1\n",
    "        done = self.current_step >= self.ep_length\n",
    "        return state, reward, done, {}\n",
    "    \n",
    "    def render(self, mode: str = \"human\") -> None:\n",
    "        pass\n",
    "\n",
    "    def seed(self, seed: Optional[int] = None) -> None:\n",
    "        if seed is not None:\n",
    "            self._np_random, seed = seeding.np_random(seed)\n",
    "            \n",
    "    def close(self):\n",
    "        pass\n",
    "    \n",
    "path_to_model = '/home/yuleliu/art/model_weight/model_step64_dropout_0.1_dim_256_layer_16_test_0.274868298345625.pth'\n",
    "env = IdentityEnv(64,path_to_model)"
   ]
  },
  {
   "cell_type": "code",
   "execution_count": 190,
   "metadata": {},
   "outputs": [
    {
     "name": "stderr",
     "output_type": "stream",
     "text": [
      "/tmp/ipykernel_102765/3925532614.py:13: SettingWithCopyWarning: \n",
      "A value is trying to be set on a copy of a slice from a DataFrame\n",
      "\n",
      "See the caveats in the documentation: https://pandas.pydata.org/pandas-docs/stable/user_guide/indexing.html#returning-a-view-versus-a-copy\n",
      "  data_subset.dropna(inplace=True)\n"
     ]
    },
    {
     "data": {
      "text/plain": [
       "(512,)"
      ]
     },
     "execution_count": 190,
     "metadata": {},
     "output_type": "execute_result"
    }
   ],
   "source": [
    "env.reset()[0].shape"
   ]
  },
  {
   "cell_type": "code",
   "execution_count": 181,
   "metadata": {},
   "outputs": [
    {
     "data": {
      "text/plain": [
       "[1, 2, 1, 2, 1, 2]"
      ]
     },
     "execution_count": 181,
     "metadata": {},
     "output_type": "execute_result"
    }
   ],
   "source": [
    "[1,2]*3"
   ]
  },
  {
   "cell_type": "code",
   "execution_count": 159,
   "metadata": {},
   "outputs": [
    {
     "name": "stderr",
     "output_type": "stream",
     "text": [
      "/tmp/ipykernel_102765/2606623039.py:13: SettingWithCopyWarning: \n",
      "A value is trying to be set on a copy of a slice from a DataFrame\n",
      "\n",
      "See the caveats in the documentation: https://pandas.pydata.org/pandas-docs/stable/user_guide/indexing.html#returning-a-view-versus-a-copy\n",
      "  data_subset.dropna(inplace=True)\n",
      "/tmp/ipykernel_102765/2606623039.py:13: SettingWithCopyWarning: \n",
      "A value is trying to be set on a copy of a slice from a DataFrame\n",
      "\n",
      "See the caveats in the documentation: https://pandas.pydata.org/pandas-docs/stable/user_guide/indexing.html#returning-a-view-versus-a-copy\n",
      "  data_subset.dropna(inplace=True)\n"
     ]
    },
    {
     "data": {
      "text/html": [
       "<pre style=\"white-space:pre;overflow-x:auto;line-height:normal;font-family:Menlo,'DejaVu Sans Mono',consolas,'Courier New',monospace\"><span style=\"color: #7fbfbf; text-decoration-color: #7fbfbf\">[01/03/24 17:17:57] </span><span style=\"color: #000080; text-decoration-color: #000080\">INFO    </span> <span style=\"color: #008080; text-decoration-color: #008080; font-weight: bold\">2024</span>-<span style=\"color: #008080; text-decoration-color: #008080; font-weight: bold\">01</span>-<span style=\"color: #008080; text-decoration-color: #008080; font-weight: bold\">03</span> <span style=\"color: #00ff00; text-decoration-color: #00ff00; font-weight: bold\">17:17:57</span>,<span style=\"color: #008080; text-decoration-color: #008080; font-weight: bold\">682</span> <span style=\"font-weight: bold\">[</span>INFO<span style=\"font-weight: bold\">]</span> Episode: <span style=\"color: #008080; text-decoration-color: #008080; font-weight: bold\">0</span>/<span style=\"color: #008080; text-decoration-color: #008080; font-weight: bold\">25</span>                             <a href=\"file:///home/yuleliu/miniconda3/lib/python3.10/site-packages/openrl/utils/logger.py\" target=\"_blank\"><span style=\"color: #7f7f7f; text-decoration-color: #7f7f7f\">logger.py</span></a><span style=\"color: #7f7f7f; text-decoration-color: #7f7f7f\">:</span><a href=\"file:///home/yuleliu/miniconda3/lib/python3.10/site-packages/openrl/utils/logger.py#164\" target=\"_blank\"><span style=\"color: #7f7f7f; text-decoration-color: #7f7f7f\">164</span></a>\n",
       "</pre>\n"
      ],
      "text/plain": [
       "\u001b[2;36m[01/03/24 17:17:57]\u001b[0m\u001b[2;36m \u001b[0m\u001b[34mINFO    \u001b[0m \u001b[1;36m2024\u001b[0m-\u001b[1;36m01\u001b[0m-\u001b[1;36m03\u001b[0m \u001b[1;92m17:17:57\u001b[0m,\u001b[1;36m682\u001b[0m \u001b[1m[\u001b[0mINFO\u001b[1m]\u001b[0m Episode: \u001b[1;36m0\u001b[0m/\u001b[1;36m25\u001b[0m                             \u001b]8;id=441001;file:///home/yuleliu/miniconda3/lib/python3.10/site-packages/openrl/utils/logger.py\u001b\\\u001b[2mlogger.py\u001b[0m\u001b]8;;\u001b\\\u001b[2m:\u001b[0m\u001b]8;id=42450;file:///home/yuleliu/miniconda3/lib/python3.10/site-packages/openrl/utils/logger.py#164\u001b\\\u001b[2m164\u001b[0m\u001b]8;;\u001b\\\n"
      ]
     },
     "metadata": {},
     "output_type": "display_data"
    },
    {
     "ename": "RuntimeError",
     "evalue": "mat1 and mat2 shapes cannot be multiplied (64x8 and 64x64)",
     "output_type": "error",
     "traceback": [
      "\u001b[0;31m---------------------------------------------------------------------------\u001b[0m",
      "\u001b[0;31mRuntimeError\u001b[0m                              Traceback (most recent call last)",
      "Cell \u001b[0;32mIn[159], line 4\u001b[0m\n\u001b[1;32m      2\u001b[0m \u001b[38;5;28;01mfrom\u001b[39;00m \u001b[38;5;21;01mopenrl\u001b[39;00m\u001b[38;5;21;01m.\u001b[39;00m\u001b[38;5;21;01mrunners\u001b[39;00m\u001b[38;5;21;01m.\u001b[39;00m\u001b[38;5;21;01mcommon\u001b[39;00m\u001b[38;5;21;01m.\u001b[39;00m\u001b[38;5;21;01mppo_agent\u001b[39;00m \u001b[38;5;28;01mimport\u001b[39;00m PPOAgent \u001b[38;5;28;01mas\u001b[39;00m Agent\n\u001b[1;32m      3\u001b[0m agent \u001b[38;5;241m=\u001b[39m Agent(Net(env,device\u001b[38;5;241m=\u001b[39m\u001b[38;5;124m'\u001b[39m\u001b[38;5;124mcuda\u001b[39m\u001b[38;5;124m'\u001b[39m)) \u001b[38;5;66;03m# 直接传入该环境即可\u001b[39;00m\n\u001b[0;32m----> 4\u001b[0m \u001b[43magent\u001b[49m\u001b[38;5;241;43m.\u001b[39;49m\u001b[43mtrain\u001b[49m\u001b[43m(\u001b[49m\u001b[38;5;241;43m5000\u001b[39;49m\u001b[43m)\u001b[49m\n",
      "File \u001b[0;32m~/miniconda3/lib/python3.10/site-packages/openrl/runners/common/ppo_agent.py:130\u001b[0m, in \u001b[0;36mPPOAgent.train\u001b[0;34m(self, total_time_steps, callback, train_algo_class, logger, driver_class)\u001b[0m\n\u001b[1;32m    116\u001b[0m driver \u001b[38;5;241m=\u001b[39m driver_class(\n\u001b[1;32m    117\u001b[0m     config\u001b[38;5;241m=\u001b[39m\u001b[38;5;28mself\u001b[39m\u001b[38;5;241m.\u001b[39mconfig,\n\u001b[1;32m    118\u001b[0m     trainer\u001b[38;5;241m=\u001b[39mtrainer,\n\u001b[0;32m   (...)\u001b[0m\n\u001b[1;32m    125\u001b[0m     callback\u001b[38;5;241m=\u001b[39mcallback,\n\u001b[1;32m    126\u001b[0m )\n\u001b[1;32m    128\u001b[0m callback\u001b[38;5;241m.\u001b[39mon_training_start(\u001b[38;5;28mlocals\u001b[39m(), \u001b[38;5;28mglobals\u001b[39m())\n\u001b[0;32m--> 130\u001b[0m \u001b[43mdriver\u001b[49m\u001b[38;5;241;43m.\u001b[39;49m\u001b[43mrun\u001b[49m\u001b[43m(\u001b[49m\u001b[43m)\u001b[49m\n\u001b[1;32m    132\u001b[0m callback\u001b[38;5;241m.\u001b[39mon_training_end()\n",
      "File \u001b[0;32m~/miniconda3/lib/python3.10/site-packages/openrl/drivers/rl_driver.py:155\u001b[0m, in \u001b[0;36mRLDriver.run\u001b[0;34m(self)\u001b[0m\n\u001b[1;32m    153\u001b[0m     \u001b[38;5;28mself\u001b[39m\u001b[38;5;241m.\u001b[39mlogger\u001b[38;5;241m.\u001b[39minfo(\u001b[38;5;124m\"\u001b[39m\u001b[38;5;124mEpisode: \u001b[39m\u001b[38;5;132;01m{}\u001b[39;00m\u001b[38;5;124m/\u001b[39m\u001b[38;5;132;01m{}\u001b[39;00m\u001b[38;5;124m\"\u001b[39m\u001b[38;5;241m.\u001b[39mformat(episode, episodes))\n\u001b[1;32m    154\u001b[0m \u001b[38;5;28mself\u001b[39m\u001b[38;5;241m.\u001b[39mepisode \u001b[38;5;241m=\u001b[39m episode\n\u001b[0;32m--> 155\u001b[0m continue_training \u001b[38;5;241m=\u001b[39m \u001b[38;5;28;43mself\u001b[39;49m\u001b[38;5;241;43m.\u001b[39;49m\u001b[43m_inner_loop\u001b[49m\u001b[43m(\u001b[49m\u001b[43m)\u001b[49m\n\u001b[1;32m    156\u001b[0m \u001b[38;5;28;01mif\u001b[39;00m \u001b[38;5;129;01mnot\u001b[39;00m continue_training:\n\u001b[1;32m    157\u001b[0m     \u001b[38;5;28;01mbreak\u001b[39;00m\n",
      "File \u001b[0;32m~/miniconda3/lib/python3.10/site-packages/openrl/drivers/onpolicy_driver.py:63\u001b[0m, in \u001b[0;36mOnPolicyDriver._inner_loop\u001b[0;34m(self)\u001b[0m\n\u001b[1;32m     57\u001b[0m \u001b[38;5;28;01mdef\u001b[39;00m \u001b[38;5;21m_inner_loop\u001b[39m(\n\u001b[1;32m     58\u001b[0m     \u001b[38;5;28mself\u001b[39m,\n\u001b[1;32m     59\u001b[0m ) \u001b[38;5;241m-\u001b[39m\u001b[38;5;241m>\u001b[39m \u001b[38;5;28mbool\u001b[39m:\n\u001b[1;32m     60\u001b[0m \u001b[38;5;250m    \u001b[39m\u001b[38;5;124;03m\"\"\"\u001b[39;00m\n\u001b[1;32m     61\u001b[0m \u001b[38;5;124;03m    :return: True if training should continue, False if training should stop\u001b[39;00m\n\u001b[1;32m     62\u001b[0m \u001b[38;5;124;03m    \"\"\"\u001b[39;00m\n\u001b[0;32m---> 63\u001b[0m     rollout_infos, continue_training \u001b[38;5;241m=\u001b[39m \u001b[38;5;28;43mself\u001b[39;49m\u001b[38;5;241;43m.\u001b[39;49m\u001b[43mactor_rollout\u001b[49m\u001b[43m(\u001b[49m\u001b[43m)\u001b[49m\n\u001b[1;32m     64\u001b[0m     \u001b[38;5;28;01mif\u001b[39;00m \u001b[38;5;129;01mnot\u001b[39;00m continue_training:\n\u001b[1;32m     65\u001b[0m         \u001b[38;5;28;01mreturn\u001b[39;00m \u001b[38;5;28;01mFalse\u001b[39;00m\n",
      "File \u001b[0;32m~/miniconda3/lib/python3.10/site-packages/openrl/drivers/onpolicy_driver.py:160\u001b[0m, in \u001b[0;36mOnPolicyDriver.actor_rollout\u001b[0;34m(self)\u001b[0m\n\u001b[1;32m    157\u001b[0m \u001b[38;5;28mself\u001b[39m\u001b[38;5;241m.\u001b[39mtrainer\u001b[38;5;241m.\u001b[39mprep_rollout()\n\u001b[1;32m    159\u001b[0m \u001b[38;5;28;01mfor\u001b[39;00m step \u001b[38;5;129;01min\u001b[39;00m \u001b[38;5;28mrange\u001b[39m(\u001b[38;5;28mself\u001b[39m\u001b[38;5;241m.\u001b[39mepisode_length):\n\u001b[0;32m--> 160\u001b[0m     values, actions, action_log_probs, rnn_states, rnn_states_critic \u001b[38;5;241m=\u001b[39m \u001b[38;5;28;43mself\u001b[39;49m\u001b[38;5;241;43m.\u001b[39;49m\u001b[43mact\u001b[49m\u001b[43m(\u001b[49m\n\u001b[1;32m    161\u001b[0m \u001b[43m        \u001b[49m\u001b[43mstep\u001b[49m\n\u001b[1;32m    162\u001b[0m \u001b[43m    \u001b[49m\u001b[43m)\u001b[49m\n\u001b[1;32m    164\u001b[0m     extra_data \u001b[38;5;241m=\u001b[39m {\n\u001b[1;32m    165\u001b[0m         \u001b[38;5;124m\"\u001b[39m\u001b[38;5;124mactions\u001b[39m\u001b[38;5;124m\"\u001b[39m: actions,\n\u001b[1;32m    166\u001b[0m         \u001b[38;5;124m\"\u001b[39m\u001b[38;5;124mvalues\u001b[39m\u001b[38;5;124m\"\u001b[39m: values,\n\u001b[0;32m   (...)\u001b[0m\n\u001b[1;32m    169\u001b[0m         \u001b[38;5;124m\"\u001b[39m\u001b[38;5;124mbuffer\u001b[39m\u001b[38;5;124m\"\u001b[39m: \u001b[38;5;28mself\u001b[39m\u001b[38;5;241m.\u001b[39mbuffer,\n\u001b[1;32m    170\u001b[0m     }\n\u001b[1;32m    172\u001b[0m     obs, rewards, dones, infos \u001b[38;5;241m=\u001b[39m \u001b[38;5;28mself\u001b[39m\u001b[38;5;241m.\u001b[39menvs\u001b[38;5;241m.\u001b[39mstep(actions, extra_data)\n",
      "File \u001b[0;32m~/miniconda3/lib/python3.10/site-packages/torch/autograd/grad_mode.py:27\u001b[0m, in \u001b[0;36m_DecoratorContextManager.__call__.<locals>.decorate_context\u001b[0;34m(*args, **kwargs)\u001b[0m\n\u001b[1;32m     24\u001b[0m \u001b[38;5;129m@functools\u001b[39m\u001b[38;5;241m.\u001b[39mwraps(func)\n\u001b[1;32m     25\u001b[0m \u001b[38;5;28;01mdef\u001b[39;00m \u001b[38;5;21mdecorate_context\u001b[39m(\u001b[38;5;241m*\u001b[39margs, \u001b[38;5;241m*\u001b[39m\u001b[38;5;241m*\u001b[39mkwargs):\n\u001b[1;32m     26\u001b[0m     \u001b[38;5;28;01mwith\u001b[39;00m \u001b[38;5;28mself\u001b[39m\u001b[38;5;241m.\u001b[39mclone():\n\u001b[0;32m---> 27\u001b[0m         \u001b[38;5;28;01mreturn\u001b[39;00m \u001b[43mfunc\u001b[49m\u001b[43m(\u001b[49m\u001b[38;5;241;43m*\u001b[39;49m\u001b[43margs\u001b[49m\u001b[43m,\u001b[49m\u001b[43m \u001b[49m\u001b[38;5;241;43m*\u001b[39;49m\u001b[38;5;241;43m*\u001b[39;49m\u001b[43mkwargs\u001b[49m\u001b[43m)\u001b[49m\n",
      "File \u001b[0;32m~/miniconda3/lib/python3.10/site-packages/openrl/drivers/onpolicy_driver.py:248\u001b[0m, in \u001b[0;36mOnPolicyDriver.act\u001b[0;34m(self, step)\u001b[0m\n\u001b[1;32m    235\u001b[0m \u001b[38;5;129m@torch\u001b[39m\u001b[38;5;241m.\u001b[39mno_grad()\n\u001b[1;32m    236\u001b[0m \u001b[38;5;28;01mdef\u001b[39;00m \u001b[38;5;21mact\u001b[39m(\n\u001b[1;32m    237\u001b[0m     \u001b[38;5;28mself\u001b[39m,\n\u001b[1;32m    238\u001b[0m     step: \u001b[38;5;28mint\u001b[39m,\n\u001b[1;32m    239\u001b[0m ):\n\u001b[1;32m    240\u001b[0m     \u001b[38;5;28mself\u001b[39m\u001b[38;5;241m.\u001b[39mtrainer\u001b[38;5;241m.\u001b[39mprep_rollout()\n\u001b[1;32m    242\u001b[0m     (\n\u001b[1;32m    243\u001b[0m         value,\n\u001b[1;32m    244\u001b[0m         action,\n\u001b[1;32m    245\u001b[0m         action_log_prob,\n\u001b[1;32m    246\u001b[0m         rnn_states,\n\u001b[1;32m    247\u001b[0m         rnn_states_critic,\n\u001b[0;32m--> 248\u001b[0m     ) \u001b[38;5;241m=\u001b[39m \u001b[38;5;28;43mself\u001b[39;49m\u001b[38;5;241;43m.\u001b[39;49m\u001b[43mtrainer\u001b[49m\u001b[38;5;241;43m.\u001b[39;49m\u001b[43malgo_module\u001b[49m\u001b[38;5;241;43m.\u001b[39;49m\u001b[43mget_actions\u001b[49m\u001b[43m(\u001b[49m\n\u001b[1;32m    249\u001b[0m \u001b[43m        \u001b[49m\u001b[38;5;28;43mself\u001b[39;49m\u001b[38;5;241;43m.\u001b[39;49m\u001b[43mbuffer\u001b[49m\u001b[38;5;241;43m.\u001b[39;49m\u001b[43mdata\u001b[49m\u001b[38;5;241;43m.\u001b[39;49m\u001b[43mget_batch_data\u001b[49m\u001b[43m(\u001b[49m\u001b[38;5;124;43m\"\u001b[39;49m\u001b[38;5;124;43mcritic_obs\u001b[39;49m\u001b[38;5;124;43m\"\u001b[39;49m\u001b[43m,\u001b[49m\u001b[43m \u001b[49m\u001b[43mstep\u001b[49m\u001b[43m)\u001b[49m\u001b[43m,\u001b[49m\n\u001b[1;32m    250\u001b[0m \u001b[43m        \u001b[49m\u001b[38;5;28;43mself\u001b[39;49m\u001b[38;5;241;43m.\u001b[39;49m\u001b[43mbuffer\u001b[49m\u001b[38;5;241;43m.\u001b[39;49m\u001b[43mdata\u001b[49m\u001b[38;5;241;43m.\u001b[39;49m\u001b[43mget_batch_data\u001b[49m\u001b[43m(\u001b[49m\u001b[38;5;124;43m\"\u001b[39;49m\u001b[38;5;124;43mpolicy_obs\u001b[39;49m\u001b[38;5;124;43m\"\u001b[39;49m\u001b[43m,\u001b[49m\u001b[43m \u001b[49m\u001b[43mstep\u001b[49m\u001b[43m)\u001b[49m\u001b[43m,\u001b[49m\n\u001b[1;32m    251\u001b[0m \u001b[43m        \u001b[49m\u001b[38;5;28;43mself\u001b[39;49m\u001b[38;5;241;43m.\u001b[39;49m\u001b[43mbuffer\u001b[49m\u001b[38;5;241;43m.\u001b[39;49m\u001b[43mdata\u001b[49m\u001b[38;5;241;43m.\u001b[39;49m\u001b[43mget_batch_data\u001b[49m\u001b[43m(\u001b[49m\u001b[38;5;124;43m\"\u001b[39;49m\u001b[38;5;124;43mrnn_states\u001b[39;49m\u001b[38;5;124;43m\"\u001b[39;49m\u001b[43m,\u001b[49m\u001b[43m \u001b[49m\u001b[43mstep\u001b[49m\u001b[43m)\u001b[49m\u001b[43m,\u001b[49m\n\u001b[1;32m    252\u001b[0m \u001b[43m        \u001b[49m\u001b[38;5;28;43mself\u001b[39;49m\u001b[38;5;241;43m.\u001b[39;49m\u001b[43mbuffer\u001b[49m\u001b[38;5;241;43m.\u001b[39;49m\u001b[43mdata\u001b[49m\u001b[38;5;241;43m.\u001b[39;49m\u001b[43mget_batch_data\u001b[49m\u001b[43m(\u001b[49m\u001b[38;5;124;43m\"\u001b[39;49m\u001b[38;5;124;43mrnn_states_critic\u001b[39;49m\u001b[38;5;124;43m\"\u001b[39;49m\u001b[43m,\u001b[49m\u001b[43m \u001b[49m\u001b[43mstep\u001b[49m\u001b[43m)\u001b[49m\u001b[43m,\u001b[49m\n\u001b[1;32m    253\u001b[0m \u001b[43m        \u001b[49m\u001b[38;5;28;43mself\u001b[39;49m\u001b[38;5;241;43m.\u001b[39;49m\u001b[43mbuffer\u001b[49m\u001b[38;5;241;43m.\u001b[39;49m\u001b[43mdata\u001b[49m\u001b[38;5;241;43m.\u001b[39;49m\u001b[43mget_batch_data\u001b[49m\u001b[43m(\u001b[49m\u001b[38;5;124;43m\"\u001b[39;49m\u001b[38;5;124;43mmasks\u001b[39;49m\u001b[38;5;124;43m\"\u001b[39;49m\u001b[43m,\u001b[49m\u001b[43m \u001b[49m\u001b[43mstep\u001b[49m\u001b[43m)\u001b[49m\u001b[43m,\u001b[49m\n\u001b[1;32m    254\u001b[0m \u001b[43m        \u001b[49m\u001b[43maction_masks\u001b[49m\u001b[38;5;241;43m=\u001b[39;49m\u001b[38;5;28;43mself\u001b[39;49m\u001b[38;5;241;43m.\u001b[39;49m\u001b[43mbuffer\u001b[49m\u001b[38;5;241;43m.\u001b[39;49m\u001b[43mdata\u001b[49m\u001b[38;5;241;43m.\u001b[39;49m\u001b[43mget_batch_data\u001b[49m\u001b[43m(\u001b[49m\u001b[38;5;124;43m\"\u001b[39;49m\u001b[38;5;124;43maction_masks\u001b[39;49m\u001b[38;5;124;43m\"\u001b[39;49m\u001b[43m,\u001b[49m\u001b[43m \u001b[49m\u001b[43mstep\u001b[49m\u001b[43m)\u001b[49m\u001b[43m,\u001b[49m\n\u001b[1;32m    255\u001b[0m \u001b[43m    \u001b[49m\u001b[43m)\u001b[49m\n\u001b[1;32m    257\u001b[0m     \u001b[38;5;28;01mif\u001b[39;00m value \u001b[38;5;129;01mis\u001b[39;00m \u001b[38;5;28;01mNone\u001b[39;00m:\n\u001b[1;32m    258\u001b[0m         values \u001b[38;5;241m=\u001b[39m np\u001b[38;5;241m.\u001b[39mzeros([\u001b[38;5;28mself\u001b[39m\u001b[38;5;241m.\u001b[39mn_rollout_threads, \u001b[38;5;28mself\u001b[39m\u001b[38;5;241m.\u001b[39mnum_agents, \u001b[38;5;241m1\u001b[39m])\n",
      "File \u001b[0;32m~/miniconda3/lib/python3.10/site-packages/openrl/modules/ppo_module.py:126\u001b[0m, in \u001b[0;36mPPOModule.get_actions\u001b[0;34m(self, critic_obs, obs, rnn_states_actor, rnn_states_critic, masks, action_masks, deterministic)\u001b[0m\n\u001b[1;32m    122\u001b[0m     values, rnn_states_critic \u001b[38;5;241m=\u001b[39m \u001b[38;5;28mself\u001b[39m\u001b[38;5;241m.\u001b[39mmodels[\u001b[38;5;124m\"\u001b[39m\u001b[38;5;124mmodel\u001b[39m\u001b[38;5;124m\"\u001b[39m](\n\u001b[1;32m    123\u001b[0m         \u001b[38;5;124m\"\u001b[39m\u001b[38;5;124mget_values\u001b[39m\u001b[38;5;124m\"\u001b[39m, critic_obs, rnn_states_critic, masks\n\u001b[1;32m    124\u001b[0m     )\n\u001b[1;32m    125\u001b[0m \u001b[38;5;28;01melse\u001b[39;00m:\n\u001b[0;32m--> 126\u001b[0m     actions, action_log_probs, rnn_states_actor \u001b[38;5;241m=\u001b[39m \u001b[38;5;28;43mself\u001b[39;49m\u001b[38;5;241;43m.\u001b[39;49m\u001b[43mmodels\u001b[49m\u001b[43m[\u001b[49m\u001b[38;5;124;43m\"\u001b[39;49m\u001b[38;5;124;43mpolicy\u001b[39;49m\u001b[38;5;124;43m\"\u001b[39;49m\u001b[43m]\u001b[49m\u001b[43m(\u001b[49m\n\u001b[1;32m    127\u001b[0m \u001b[43m        \u001b[49m\u001b[38;5;124;43m\"\u001b[39;49m\u001b[38;5;124;43moriginal\u001b[39;49m\u001b[38;5;124;43m\"\u001b[39;49m\u001b[43m,\u001b[49m\n\u001b[1;32m    128\u001b[0m \u001b[43m        \u001b[49m\u001b[43mobs\u001b[49m\u001b[43m,\u001b[49m\n\u001b[1;32m    129\u001b[0m \u001b[43m        \u001b[49m\u001b[43mrnn_states_actor\u001b[49m\u001b[43m,\u001b[49m\n\u001b[1;32m    130\u001b[0m \u001b[43m        \u001b[49m\u001b[43mmasks\u001b[49m\u001b[43m,\u001b[49m\n\u001b[1;32m    131\u001b[0m \u001b[43m        \u001b[49m\u001b[43maction_masks\u001b[49m\u001b[43m,\u001b[49m\n\u001b[1;32m    132\u001b[0m \u001b[43m        \u001b[49m\u001b[43mdeterministic\u001b[49m\u001b[43m,\u001b[49m\n\u001b[1;32m    133\u001b[0m \u001b[43m    \u001b[49m\u001b[43m)\u001b[49m\n\u001b[1;32m    135\u001b[0m     values, rnn_states_critic \u001b[38;5;241m=\u001b[39m \u001b[38;5;28mself\u001b[39m\u001b[38;5;241m.\u001b[39mmodels[\u001b[38;5;124m\"\u001b[39m\u001b[38;5;124mcritic\u001b[39m\u001b[38;5;124m\"\u001b[39m](\n\u001b[1;32m    136\u001b[0m         critic_obs, rnn_states_critic, masks\n\u001b[1;32m    137\u001b[0m     )\n\u001b[1;32m    138\u001b[0m \u001b[38;5;28;01mreturn\u001b[39;00m values, actions, action_log_probs, rnn_states_actor, rnn_states_critic\n",
      "File \u001b[0;32m~/miniconda3/lib/python3.10/site-packages/torch/nn/modules/module.py:1130\u001b[0m, in \u001b[0;36mModule._call_impl\u001b[0;34m(self, *input, **kwargs)\u001b[0m\n\u001b[1;32m   1126\u001b[0m \u001b[38;5;66;03m# If we don't have any hooks, we want to skip the rest of the logic in\u001b[39;00m\n\u001b[1;32m   1127\u001b[0m \u001b[38;5;66;03m# this function, and just call forward.\u001b[39;00m\n\u001b[1;32m   1128\u001b[0m \u001b[38;5;28;01mif\u001b[39;00m \u001b[38;5;129;01mnot\u001b[39;00m (\u001b[38;5;28mself\u001b[39m\u001b[38;5;241m.\u001b[39m_backward_hooks \u001b[38;5;129;01mor\u001b[39;00m \u001b[38;5;28mself\u001b[39m\u001b[38;5;241m.\u001b[39m_forward_hooks \u001b[38;5;129;01mor\u001b[39;00m \u001b[38;5;28mself\u001b[39m\u001b[38;5;241m.\u001b[39m_forward_pre_hooks \u001b[38;5;129;01mor\u001b[39;00m _global_backward_hooks\n\u001b[1;32m   1129\u001b[0m         \u001b[38;5;129;01mor\u001b[39;00m _global_forward_hooks \u001b[38;5;129;01mor\u001b[39;00m _global_forward_pre_hooks):\n\u001b[0;32m-> 1130\u001b[0m     \u001b[38;5;28;01mreturn\u001b[39;00m \u001b[43mforward_call\u001b[49m\u001b[43m(\u001b[49m\u001b[38;5;241;43m*\u001b[39;49m\u001b[38;5;28;43minput\u001b[39;49m\u001b[43m,\u001b[49m\u001b[43m \u001b[49m\u001b[38;5;241;43m*\u001b[39;49m\u001b[38;5;241;43m*\u001b[39;49m\u001b[43mkwargs\u001b[49m\u001b[43m)\u001b[49m\n\u001b[1;32m   1131\u001b[0m \u001b[38;5;66;03m# Do not call functions when jit is used\u001b[39;00m\n\u001b[1;32m   1132\u001b[0m full_backward_hooks, non_full_backward_hooks \u001b[38;5;241m=\u001b[39m [], []\n",
      "File \u001b[0;32m~/miniconda3/lib/python3.10/site-packages/openrl/modules/networks/policy_network.py:124\u001b[0m, in \u001b[0;36mPolicyNetwork.forward\u001b[0;34m(self, forward_type, *args, **kwargs)\u001b[0m\n\u001b[1;32m    122\u001b[0m \u001b[38;5;28;01mdef\u001b[39;00m \u001b[38;5;21mforward\u001b[39m(\u001b[38;5;28mself\u001b[39m, forward_type, \u001b[38;5;241m*\u001b[39margs, \u001b[38;5;241m*\u001b[39m\u001b[38;5;241m*\u001b[39mkwargs):\n\u001b[1;32m    123\u001b[0m     \u001b[38;5;28;01mif\u001b[39;00m forward_type \u001b[38;5;241m==\u001b[39m \u001b[38;5;124m\"\u001b[39m\u001b[38;5;124moriginal\u001b[39m\u001b[38;5;124m\"\u001b[39m:\n\u001b[0;32m--> 124\u001b[0m         \u001b[38;5;28;01mreturn\u001b[39;00m \u001b[38;5;28;43mself\u001b[39;49m\u001b[38;5;241;43m.\u001b[39;49m\u001b[43mforward_original\u001b[49m\u001b[43m(\u001b[49m\u001b[38;5;241;43m*\u001b[39;49m\u001b[43margs\u001b[49m\u001b[43m,\u001b[49m\u001b[43m \u001b[49m\u001b[38;5;241;43m*\u001b[39;49m\u001b[38;5;241;43m*\u001b[39;49m\u001b[43mkwargs\u001b[49m\u001b[43m)\u001b[49m\n\u001b[1;32m    125\u001b[0m     \u001b[38;5;28;01melif\u001b[39;00m forward_type \u001b[38;5;241m==\u001b[39m \u001b[38;5;124m\"\u001b[39m\u001b[38;5;124meval_actions\u001b[39m\u001b[38;5;124m\"\u001b[39m:\n\u001b[1;32m    126\u001b[0m         \u001b[38;5;28;01mreturn\u001b[39;00m \u001b[38;5;28mself\u001b[39m\u001b[38;5;241m.\u001b[39meval_actions(\u001b[38;5;241m*\u001b[39margs, \u001b[38;5;241m*\u001b[39m\u001b[38;5;241m*\u001b[39mkwargs)\n",
      "File \u001b[0;32m~/miniconda3/lib/python3.10/site-packages/openrl/modules/networks/policy_network.py:150\u001b[0m, in \u001b[0;36mPolicyNetwork.forward_original\u001b[0;34m(self, raw_obs, rnn_states, masks, action_masks, deterministic)\u001b[0m\n\u001b[1;32m    147\u001b[0m \u001b[38;5;28;01mif\u001b[39;00m action_masks \u001b[38;5;129;01mis\u001b[39;00m \u001b[38;5;129;01mnot\u001b[39;00m \u001b[38;5;28;01mNone\u001b[39;00m:\n\u001b[1;32m    148\u001b[0m     action_masks \u001b[38;5;241m=\u001b[39m check(action_masks, \u001b[38;5;28mself\u001b[39m\u001b[38;5;241m.\u001b[39muse_half, \u001b[38;5;28mself\u001b[39m\u001b[38;5;241m.\u001b[39mtpdv)\n\u001b[0;32m--> 150\u001b[0m actor_features \u001b[38;5;241m=\u001b[39m \u001b[38;5;28;43mself\u001b[39;49m\u001b[38;5;241;43m.\u001b[39;49m\u001b[43mbase\u001b[49m\u001b[43m(\u001b[49m\u001b[43mpolicy_obs\u001b[49m\u001b[43m)\u001b[49m\n\u001b[1;32m    152\u001b[0m \u001b[38;5;28;01mif\u001b[39;00m \u001b[38;5;28mself\u001b[39m\u001b[38;5;241m.\u001b[39m_use_naive_recurrent_policy \u001b[38;5;129;01mor\u001b[39;00m \u001b[38;5;28mself\u001b[39m\u001b[38;5;241m.\u001b[39m_use_recurrent_policy:\n\u001b[1;32m    153\u001b[0m     actor_features, rnn_states \u001b[38;5;241m=\u001b[39m \u001b[38;5;28mself\u001b[39m\u001b[38;5;241m.\u001b[39mrnn(actor_features, rnn_states, masks)\n",
      "File \u001b[0;32m~/miniconda3/lib/python3.10/site-packages/torch/nn/modules/module.py:1130\u001b[0m, in \u001b[0;36mModule._call_impl\u001b[0;34m(self, *input, **kwargs)\u001b[0m\n\u001b[1;32m   1126\u001b[0m \u001b[38;5;66;03m# If we don't have any hooks, we want to skip the rest of the logic in\u001b[39;00m\n\u001b[1;32m   1127\u001b[0m \u001b[38;5;66;03m# this function, and just call forward.\u001b[39;00m\n\u001b[1;32m   1128\u001b[0m \u001b[38;5;28;01mif\u001b[39;00m \u001b[38;5;129;01mnot\u001b[39;00m (\u001b[38;5;28mself\u001b[39m\u001b[38;5;241m.\u001b[39m_backward_hooks \u001b[38;5;129;01mor\u001b[39;00m \u001b[38;5;28mself\u001b[39m\u001b[38;5;241m.\u001b[39m_forward_hooks \u001b[38;5;129;01mor\u001b[39;00m \u001b[38;5;28mself\u001b[39m\u001b[38;5;241m.\u001b[39m_forward_pre_hooks \u001b[38;5;129;01mor\u001b[39;00m _global_backward_hooks\n\u001b[1;32m   1129\u001b[0m         \u001b[38;5;129;01mor\u001b[39;00m _global_forward_hooks \u001b[38;5;129;01mor\u001b[39;00m _global_forward_pre_hooks):\n\u001b[0;32m-> 1130\u001b[0m     \u001b[38;5;28;01mreturn\u001b[39;00m \u001b[43mforward_call\u001b[49m\u001b[43m(\u001b[49m\u001b[38;5;241;43m*\u001b[39;49m\u001b[38;5;28;43minput\u001b[39;49m\u001b[43m,\u001b[49m\u001b[43m \u001b[49m\u001b[38;5;241;43m*\u001b[39;49m\u001b[38;5;241;43m*\u001b[39;49m\u001b[43mkwargs\u001b[49m\u001b[43m)\u001b[49m\n\u001b[1;32m   1131\u001b[0m \u001b[38;5;66;03m# Do not call functions when jit is used\u001b[39;00m\n\u001b[1;32m   1132\u001b[0m full_backward_hooks, non_full_backward_hooks \u001b[38;5;241m=\u001b[39m [], []\n",
      "File \u001b[0;32m~/miniconda3/lib/python3.10/site-packages/openrl/modules/networks/utils/mlp.py:174\u001b[0m, in \u001b[0;36mMLPBase.forward\u001b[0;34m(self, x)\u001b[0m\n\u001b[1;32m    171\u001b[0m     x \u001b[38;5;241m=\u001b[39m \u001b[38;5;28mself\u001b[39m\u001b[38;5;241m.\u001b[39mconv(x)\n\u001b[1;32m    172\u001b[0m     x \u001b[38;5;241m=\u001b[39m x\u001b[38;5;241m.\u001b[39mview(batch_size, \u001b[38;5;241m-\u001b[39m\u001b[38;5;241m1\u001b[39m)\n\u001b[0;32m--> 174\u001b[0m x \u001b[38;5;241m=\u001b[39m \u001b[38;5;28;43mself\u001b[39;49m\u001b[38;5;241;43m.\u001b[39;49m\u001b[43mmlp\u001b[49m\u001b[43m(\u001b[49m\u001b[43mx\u001b[49m\u001b[43m)\u001b[49m\n\u001b[1;32m    176\u001b[0m \u001b[38;5;28;01mreturn\u001b[39;00m x\n",
      "File \u001b[0;32m~/miniconda3/lib/python3.10/site-packages/torch/nn/modules/module.py:1130\u001b[0m, in \u001b[0;36mModule._call_impl\u001b[0;34m(self, *input, **kwargs)\u001b[0m\n\u001b[1;32m   1126\u001b[0m \u001b[38;5;66;03m# If we don't have any hooks, we want to skip the rest of the logic in\u001b[39;00m\n\u001b[1;32m   1127\u001b[0m \u001b[38;5;66;03m# this function, and just call forward.\u001b[39;00m\n\u001b[1;32m   1128\u001b[0m \u001b[38;5;28;01mif\u001b[39;00m \u001b[38;5;129;01mnot\u001b[39;00m (\u001b[38;5;28mself\u001b[39m\u001b[38;5;241m.\u001b[39m_backward_hooks \u001b[38;5;129;01mor\u001b[39;00m \u001b[38;5;28mself\u001b[39m\u001b[38;5;241m.\u001b[39m_forward_hooks \u001b[38;5;129;01mor\u001b[39;00m \u001b[38;5;28mself\u001b[39m\u001b[38;5;241m.\u001b[39m_forward_pre_hooks \u001b[38;5;129;01mor\u001b[39;00m _global_backward_hooks\n\u001b[1;32m   1129\u001b[0m         \u001b[38;5;129;01mor\u001b[39;00m _global_forward_hooks \u001b[38;5;129;01mor\u001b[39;00m _global_forward_pre_hooks):\n\u001b[0;32m-> 1130\u001b[0m     \u001b[38;5;28;01mreturn\u001b[39;00m \u001b[43mforward_call\u001b[49m\u001b[43m(\u001b[49m\u001b[38;5;241;43m*\u001b[39;49m\u001b[38;5;28;43minput\u001b[39;49m\u001b[43m,\u001b[49m\u001b[43m \u001b[49m\u001b[38;5;241;43m*\u001b[39;49m\u001b[38;5;241;43m*\u001b[39;49m\u001b[43mkwargs\u001b[49m\u001b[43m)\u001b[49m\n\u001b[1;32m   1131\u001b[0m \u001b[38;5;66;03m# Do not call functions when jit is used\u001b[39;00m\n\u001b[1;32m   1132\u001b[0m full_backward_hooks, non_full_backward_hooks \u001b[38;5;241m=\u001b[39m [], []\n",
      "File \u001b[0;32m~/miniconda3/lib/python3.10/site-packages/openrl/modules/networks/utils/mlp.py:42\u001b[0m, in \u001b[0;36mMLPLayer.forward\u001b[0;34m(self, x)\u001b[0m\n\u001b[1;32m     41\u001b[0m \u001b[38;5;28;01mdef\u001b[39;00m \u001b[38;5;21mforward\u001b[39m(\u001b[38;5;28mself\u001b[39m, x):\n\u001b[0;32m---> 42\u001b[0m     x \u001b[38;5;241m=\u001b[39m \u001b[38;5;28;43mself\u001b[39;49m\u001b[38;5;241;43m.\u001b[39;49m\u001b[43mfc1\u001b[49m\u001b[43m(\u001b[49m\u001b[43mx\u001b[49m\u001b[43m)\u001b[49m\n\u001b[1;32m     43\u001b[0m     \u001b[38;5;28;01mfor\u001b[39;00m i \u001b[38;5;129;01min\u001b[39;00m \u001b[38;5;28mrange\u001b[39m(\u001b[38;5;28mself\u001b[39m\u001b[38;5;241m.\u001b[39m_layer_N \u001b[38;5;241m-\u001b[39m \u001b[38;5;241m1\u001b[39m):\n\u001b[1;32m     44\u001b[0m         x \u001b[38;5;241m=\u001b[39m \u001b[38;5;28mself\u001b[39m\u001b[38;5;241m.\u001b[39mfc2[i](x)\n",
      "File \u001b[0;32m~/miniconda3/lib/python3.10/site-packages/torch/nn/modules/module.py:1130\u001b[0m, in \u001b[0;36mModule._call_impl\u001b[0;34m(self, *input, **kwargs)\u001b[0m\n\u001b[1;32m   1126\u001b[0m \u001b[38;5;66;03m# If we don't have any hooks, we want to skip the rest of the logic in\u001b[39;00m\n\u001b[1;32m   1127\u001b[0m \u001b[38;5;66;03m# this function, and just call forward.\u001b[39;00m\n\u001b[1;32m   1128\u001b[0m \u001b[38;5;28;01mif\u001b[39;00m \u001b[38;5;129;01mnot\u001b[39;00m (\u001b[38;5;28mself\u001b[39m\u001b[38;5;241m.\u001b[39m_backward_hooks \u001b[38;5;129;01mor\u001b[39;00m \u001b[38;5;28mself\u001b[39m\u001b[38;5;241m.\u001b[39m_forward_hooks \u001b[38;5;129;01mor\u001b[39;00m \u001b[38;5;28mself\u001b[39m\u001b[38;5;241m.\u001b[39m_forward_pre_hooks \u001b[38;5;129;01mor\u001b[39;00m _global_backward_hooks\n\u001b[1;32m   1129\u001b[0m         \u001b[38;5;129;01mor\u001b[39;00m _global_forward_hooks \u001b[38;5;129;01mor\u001b[39;00m _global_forward_pre_hooks):\n\u001b[0;32m-> 1130\u001b[0m     \u001b[38;5;28;01mreturn\u001b[39;00m \u001b[43mforward_call\u001b[49m\u001b[43m(\u001b[49m\u001b[38;5;241;43m*\u001b[39;49m\u001b[38;5;28;43minput\u001b[39;49m\u001b[43m,\u001b[49m\u001b[43m \u001b[49m\u001b[38;5;241;43m*\u001b[39;49m\u001b[38;5;241;43m*\u001b[39;49m\u001b[43mkwargs\u001b[49m\u001b[43m)\u001b[49m\n\u001b[1;32m   1131\u001b[0m \u001b[38;5;66;03m# Do not call functions when jit is used\u001b[39;00m\n\u001b[1;32m   1132\u001b[0m full_backward_hooks, non_full_backward_hooks \u001b[38;5;241m=\u001b[39m [], []\n",
      "File \u001b[0;32m~/miniconda3/lib/python3.10/site-packages/torch/nn/modules/container.py:139\u001b[0m, in \u001b[0;36mSequential.forward\u001b[0;34m(self, input)\u001b[0m\n\u001b[1;32m    137\u001b[0m \u001b[38;5;28;01mdef\u001b[39;00m \u001b[38;5;21mforward\u001b[39m(\u001b[38;5;28mself\u001b[39m, \u001b[38;5;28minput\u001b[39m):\n\u001b[1;32m    138\u001b[0m     \u001b[38;5;28;01mfor\u001b[39;00m module \u001b[38;5;129;01min\u001b[39;00m \u001b[38;5;28mself\u001b[39m:\n\u001b[0;32m--> 139\u001b[0m         \u001b[38;5;28minput\u001b[39m \u001b[38;5;241m=\u001b[39m \u001b[43mmodule\u001b[49m\u001b[43m(\u001b[49m\u001b[38;5;28;43minput\u001b[39;49m\u001b[43m)\u001b[49m\n\u001b[1;32m    140\u001b[0m     \u001b[38;5;28;01mreturn\u001b[39;00m \u001b[38;5;28minput\u001b[39m\n",
      "File \u001b[0;32m~/miniconda3/lib/python3.10/site-packages/torch/nn/modules/module.py:1130\u001b[0m, in \u001b[0;36mModule._call_impl\u001b[0;34m(self, *input, **kwargs)\u001b[0m\n\u001b[1;32m   1126\u001b[0m \u001b[38;5;66;03m# If we don't have any hooks, we want to skip the rest of the logic in\u001b[39;00m\n\u001b[1;32m   1127\u001b[0m \u001b[38;5;66;03m# this function, and just call forward.\u001b[39;00m\n\u001b[1;32m   1128\u001b[0m \u001b[38;5;28;01mif\u001b[39;00m \u001b[38;5;129;01mnot\u001b[39;00m (\u001b[38;5;28mself\u001b[39m\u001b[38;5;241m.\u001b[39m_backward_hooks \u001b[38;5;129;01mor\u001b[39;00m \u001b[38;5;28mself\u001b[39m\u001b[38;5;241m.\u001b[39m_forward_hooks \u001b[38;5;129;01mor\u001b[39;00m \u001b[38;5;28mself\u001b[39m\u001b[38;5;241m.\u001b[39m_forward_pre_hooks \u001b[38;5;129;01mor\u001b[39;00m _global_backward_hooks\n\u001b[1;32m   1129\u001b[0m         \u001b[38;5;129;01mor\u001b[39;00m _global_forward_hooks \u001b[38;5;129;01mor\u001b[39;00m _global_forward_pre_hooks):\n\u001b[0;32m-> 1130\u001b[0m     \u001b[38;5;28;01mreturn\u001b[39;00m \u001b[43mforward_call\u001b[49m\u001b[43m(\u001b[49m\u001b[38;5;241;43m*\u001b[39;49m\u001b[38;5;28;43minput\u001b[39;49m\u001b[43m,\u001b[49m\u001b[43m \u001b[49m\u001b[38;5;241;43m*\u001b[39;49m\u001b[38;5;241;43m*\u001b[39;49m\u001b[43mkwargs\u001b[49m\u001b[43m)\u001b[49m\n\u001b[1;32m   1131\u001b[0m \u001b[38;5;66;03m# Do not call functions when jit is used\u001b[39;00m\n\u001b[1;32m   1132\u001b[0m full_backward_hooks, non_full_backward_hooks \u001b[38;5;241m=\u001b[39m [], []\n",
      "File \u001b[0;32m~/miniconda3/lib/python3.10/site-packages/torch/nn/modules/linear.py:114\u001b[0m, in \u001b[0;36mLinear.forward\u001b[0;34m(self, input)\u001b[0m\n\u001b[1;32m    113\u001b[0m \u001b[38;5;28;01mdef\u001b[39;00m \u001b[38;5;21mforward\u001b[39m(\u001b[38;5;28mself\u001b[39m, \u001b[38;5;28minput\u001b[39m: Tensor) \u001b[38;5;241m-\u001b[39m\u001b[38;5;241m>\u001b[39m Tensor:\n\u001b[0;32m--> 114\u001b[0m     \u001b[38;5;28;01mreturn\u001b[39;00m \u001b[43mF\u001b[49m\u001b[38;5;241;43m.\u001b[39;49m\u001b[43mlinear\u001b[49m\u001b[43m(\u001b[49m\u001b[38;5;28;43minput\u001b[39;49m\u001b[43m,\u001b[49m\u001b[43m \u001b[49m\u001b[38;5;28;43mself\u001b[39;49m\u001b[38;5;241;43m.\u001b[39;49m\u001b[43mweight\u001b[49m\u001b[43m,\u001b[49m\u001b[43m \u001b[49m\u001b[38;5;28;43mself\u001b[39;49m\u001b[38;5;241;43m.\u001b[39;49m\u001b[43mbias\u001b[49m\u001b[43m)\u001b[49m\n",
      "\u001b[0;31mRuntimeError\u001b[0m: mat1 and mat2 shapes cannot be multiplied (64x8 and 64x64)"
     ]
    }
   ],
   "source": [
    "from openrl.modules.common.ppo_net import PPONet as Net\n",
    "from openrl.runners.common.ppo_agent import PPOAgent as Agent\n",
    "agent = Agent(Net(env,device='cuda')) # 直接传入该环境即可\n",
    "agent.train(5000) # 开始训练！\n"
   ]
  },
  {
   "cell_type": "code",
   "execution_count": 191,
   "metadata": {},
   "outputs": [
    {
     "data": {
      "text/plain": [
       "3000000.0"
      ]
     },
     "execution_count": 191,
     "metadata": {},
     "output_type": "execute_result"
    }
   ],
   "source": [
    "3e6\n"
   ]
  },
  {
   "cell_type": "code",
   "execution_count": 57,
   "metadata": {},
   "outputs": [
    {
     "name": "stderr",
     "output_type": "stream",
     "text": [
      "/home/yuleliu/art/src/env.py:48: SettingWithCopyWarning: \n",
      "A value is trying to be set on a copy of a slice from a DataFrame\n",
      "\n",
      "See the caveats in the documentation: https://pandas.pydata.org/pandas-docs/stable/user_guide/indexing.html#returning-a-view-versus-a-copy\n",
      "  data_subset.dropna(inplace=True)\n"
     ]
    },
    {
     "name": "stdout",
     "output_type": "stream",
     "text": [
      "(1896, 8) (791, 8)\n"
     ]
    },
    {
     "name": "stderr",
     "output_type": "stream",
     "text": [
      "/home/yuleliu/art/src/env.py:48: SettingWithCopyWarning: \n",
      "A value is trying to be set on a copy of a slice from a DataFrame\n",
      "\n",
      "See the caveats in the documentation: https://pandas.pydata.org/pandas-docs/stable/user_guide/indexing.html#returning-a-view-versus-a-copy\n",
      "  data_subset.dropna(inplace=True)\n"
     ]
    }
   ],
   "source": [
    "from src.env import load_test_data\n",
    "\n",
    "a, b= load_test_data(64)"
   ]
  },
  {
   "cell_type": "code",
   "execution_count": 62,
   "metadata": {},
   "outputs": [
    {
     "data": {
      "text/plain": [
       "array([35.28    , 35.32    , 35.804   , 35.855   , 35.886665, 35.9775  ,\n",
       "       35.885   , 35.873   , 35.7375  , 35.68    , 35.81    , 35.926666,\n",
       "       36.005   , 36.269   , 35.7275  , 35.11    , 36.067   , 35.935   ,\n",
       "       36.231   , 36.675   , 36.62    , 36.6725  , 36.849   , 37.406666,\n",
       "       37.134   , 37.22333 , 36.84    , 37.885   , 37.826668, 37.73375 ,\n",
       "       37.1275  , 36.91    , 36.843334, 37.035   , 35.218376, 33.118   ,\n",
       "       32.372   , 32.392   , 32.454   , 32.319   , 32.556   , 32.331   ,\n",
       "       33.146   , 33.174   , 33.0625  , 33.087   , 35.19    , 35.63    ,\n",
       "       36.22167 , 35.9475  , 36.053   , 35.9725  , 35.935   , 35.78    ,\n",
       "       35.88    , 35.836   , 35.911667, 35.8125  , 33.983   , 33.647   ,\n",
       "       33.756   , 33.892   , 33.867   , 33.878   , 33.895   , 33.888332,\n",
       "       34.003   , 34.3075  , 34.27    , 34.245   , 34.318   , 34.771   ,\n",
       "       34.659   , 34.515   , 34.365   , 33.9925  , 34.091   , 34.183   ,\n",
       "       34.04375 , 34.114   , 35.25    , 34.695   , 35.66375 , 35.713   ,\n",
       "       35.945   , 36.107   , 35.803   , 35.951   , 35.515   , 35.465   ,\n",
       "       35.506   , 35.79625 , 35.468   , 35.88    , 35.73    , 36.3     ,\n",
       "       36.58625 , 36.645   , 36.355   , 36.841667, 36.4525  , 36.1275  ,\n",
       "       35.676   , 35.39    , 35.1825  , 34.81333 , 35.2075  , 33.49    ,\n",
       "       32.78    , 32.98875 , 33.4975  , 32.348   , 32.187   , 32.1275  ,\n",
       "       32.9325  , 33.51375 , 33.18125 , 33.229   , 33.811   , 34.3975  ,\n",
       "       34.64    , 34.362   , 34.291   , 34.2925  , 34.324   , 33.991   ,\n",
       "       33.89125 , 33.936   , 34.158   , 34.446   , 33.97375 , 33.474   ,\n",
       "       33.45    , 33.728333, 33.896667, 32.146667, 31.86    , 31.456667,\n",
       "       31.23    , 31.855   , 32.791668, 32.965   , 32.88    , 33.498333,\n",
       "       32.969   , 32.193   , 32.166   , 32.256   , 32.324   , 32.588   ,\n",
       "       32.348   , 32.116   , 33.411   , 34.159   , 34.052   , 34.453   ,\n",
       "       34.404   , 34.329   , 34.016   , 33.639   , 34.277   , 33.815   ,\n",
       "       34.079   , 34.5     , 34.894   , 35.026   , 35.873   , 36.593   ,\n",
       "       35.062   , 34.687   , 34.507668, 34.617   , 34.873   , 34.789   ,\n",
       "       34.639   , 34.759   , 34.933   , 35.342   , 35.972   , 36.789   ,\n",
       "       36.146   , 36.293   , 35.589   , 34.977   , 34.919   , 34.911   ,\n",
       "       34.287   , 37.666   , 36.334   , 36.54    , 36.124   , 34.653   ,\n",
       "       35.966   , 35.368   , 34.416   , 34.209   , 35.456   , 34.746   ,\n",
       "       34.183   , 33.697   , 34.663   , 35.782   , 32.566   , 31.937   ,\n",
       "       32.07    , 32.294   , 31.436   , 31.122   , 31.091   , 31.104   ,\n",
       "       32.401   , 33.157   , 32.477   , 33.086   , 33.079   , 33.87    ,\n",
       "       33.42    , 32.287   , 31.846   , 32.702   , 32.758   , 32.465   ,\n",
       "       32.34    , 32.39    , 32.452   , 33.403   , 32.162   , 31.227   ,\n",
       "       30.851   , 30.62    , 30.599   , 30.036   , 30.093   , 29.728   ,\n",
       "       30.499   , 30.949   , 31.404   , 31.08    , 31.327   , 32.026   ,\n",
       "       30.435   , 29.816   , 29.475   , 30.151   , 30.268   , 30.141   ,\n",
       "       30.178   , 30.161   , 30.223   , 31.573   , 30.882   , 29.507   ,\n",
       "       28.989   , 29.015   , 28.012   , 27.636   , 27.587   , 27.46    ,\n",
       "       28.562   , 29.199   , 29.154   , 29.172   , 28.986   , 29.935   ,\n",
       "       29.139   , 28.113   , 28.159   , 28.643   , 28.768   , 28.722   ,\n",
       "       28.726   , 28.653   , 28.598   , 30.155   , 30.319   , 29.4     ,\n",
       "       28.923   , 29.057   , 28.194   , 27.991   , 27.777   , 27.672   ,\n",
       "       28.148   , 28.383   , 28.523   , 28.467   , 28.22625 , 28.838   ,\n",
       "       27.096   , 26.678   , 26.551   , 27.035   , 27.228   , 27.358   ,\n",
       "       27.653   , 27.954   , 28.919   , 30.127   , 29.148   , 27.275   ,\n",
       "       27.589   , 28.009   , 27.717   , 27.565   , 27.626   , 27.472   ,\n",
       "       28.629   , 29.207   , 29.215   , 29.194   , 30.358   , 30.739   ,\n",
       "       29.193   , 28.71    , 28.608   , 28.511   , 28.792   , 28.947   ,\n",
       "       29.009   , 28.76375 , 28.994   , 29.932   , 31.11    , 32.381   ,\n",
       "       32.8925  , 32.783   , 32.616   , 32.724   , 32.768   , 32.578   ,\n",
       "       33.815   , 34.567   , 34.733   , 34.899   , 33.481   , 33.088   ,\n",
       "       33.33    , 34.251   , 34.51    , 34.643   , 34.491   , 34.417   ,\n",
       "       33.668   , 33.314   , 33.215   , 34.187   , 35.442   , 35.9     ,\n",
       "       35.706   , 35.475   , 35.879   , 35.443   , 35.371   , 35.304   ,\n",
       "       35.122   , 35.331   , 35.085   , 35.438   , 36.197   , 36.721   ,\n",
       "       36.28    , 35.277   , 35.2     , 35.342   , 35.314   , 35.381   ,\n",
       "       35.513   , 35.2275  , 35.368   , 36.763   , 35.79    , 34.874   ,\n",
       "       35.066   , 35.203   , 34.927   , 34.832   , 34.78    , 34.746   ,\n",
       "       35.556   , 35.785   , 35.682   , 35.712   , 36.775   , 37.012   ,\n",
       "       36.14    , 35.405   , 35.232   , 35.761   , 35.796   , 35.824   ,\n",
       "       35.13875 , 34.863   , 34.92    , 35.415   , 35.522   , 34.566   ,\n",
       "       32.037   , 30.847   , 29.368   , 29.181   , 29.188   , 29.101   ,\n",
       "       30.2625  , 30.452   , 30.497   , 30.434   , 30.699   , 31.345   ,\n",
       "       29.627   , 29.222   , 29.902   , 30.024   , 29.968   , 30.009   ,\n",
       "       29.985   , 30.013   , 30.001   , 30.115   , 30.4     , 30.174   ,\n",
       "       29.585   , 29.55    , 29.251   , 29.1     , 28.994   , 28.826   ,\n",
       "       29.957   , 30.551   , 30.796   , 30.889   , 32.039   , 33.485   ,\n",
       "       33.022   , 31.245   , 31.01    , 30.899   , 31.282   , 31.028   ,\n",
       "       31.0975  , 31.049166, 31.137   , 31.756   , 33.11625 , 36.569   ,\n",
       "       37.77    , 37.919   , 37.32875 , 37.855   , 37.312   , 37.448   ,\n",
       "       36.587   , 35.871   , 35.9475  , 35.951   , 36.106667, 37.142   ,\n",
       "       38.988   , 36.934166, 35.83125 , 37.284286, 36.946667, 36.183   ,\n",
       "       38.070835, 37.2125  , 36.488   , 38.515   , 39.181   , 38.17375 ,\n",
       "       37.74    , 37.634   , 40.09    , 38.928   , 38.034   , 40.06875 ,\n",
       "       39.13    , 38.415   , 40.5825  , 40.117   , 39.208   , 42.805   ,\n",
       "       39.267   , 38.095   , 39.61625 , 38.488   , 38.513   , 38.23625 ,\n",
       "       38.86    , 38.574   , 38.653   , 40.719166, 39.136   , 38.83375 ,\n",
       "       39.456   , 39.255   , 39.8275  , 39.899   , 39.894   , 39.892   ,\n",
       "       39.777   , 40.0175  , 41.29111 , 40.8225  , 40.9275  , 39.435   ,\n",
       "       38.84    , 38.271   , 38.975   , 38.346   , 38.121   , 38.93    ,\n",
       "       37.681   , 37.741   , 38.708   , 38.574   , 37.368   , 36.61875 ,\n",
       "       37.291668, 36.96417 , 38.809   , 35.2725  , 37.06    , 36.63    ,\n",
       "       36.986668, 37.335835, 37.641   , 37.69625 , 37.786   , 39.289   ,\n",
       "       37.455   , 36.810833, 37.78    , 37.88375 , 37.980835, 37.94625 ,\n",
       "       37.11125 , 36.839   , 36.96583 , 38.03    , 35.899   , 34.434   ,\n",
       "       34.100834, 34.022   , 34.6525  , 33.75    , 33.599167, 33.416   ,\n",
       "       34.562   , 35.508335, 35.275   , 34.89375 , 35.911   , 37.006668,\n",
       "       36.16375 , 35.14125 , 35.359   , 35.682   , 35.856667, 35.326668,\n",
       "       34.02    , 34.1625  , 36.045   , 35.9275  , 35.0025  , 33.733334,\n",
       "       34.115   , 34.3725  , 34.20875 , 34.0925  , 34.14    , 34.068   ,\n",
       "       35.511   , 35.66    , 35.718   , 35.2275  , 35.80125 , 36.061   ,\n",
       "       35.381   , 34.466   , 34.97375 , 35.546   , 35.768   , 35.177   ,\n",
       "       33.629   , 33.989   , 35.71    , 35.66375 , 33.059   , 31.862   ,\n",
       "       31.184   , 31.275833, 31.023   , 30.898333, 30.9675  , 30.94125 ,\n",
       "       32.825832, 32.923   , 32.433   , 32.855   , 33.33    , 34.3025  ,\n",
       "       34.1     , 33.700832, 33.905   , 33.672   , 33.651   , 33.733   ,\n",
       "       32.928   , 32.134   , 32.084167, 32.261   , 31.383   , 30.443   ,\n",
       "       30.085   , 30.238   , 30.4     , 30.446   , 30.40875 , 30.413334,\n",
       "       30.875   , 30.851   , 30.676666, 30.6925  , 31.062   , 31.70875 ,\n",
       "       31.4925  , 31.411   , 31.148   , 31.717   , 31.709   , 31.814   ,\n",
       "       31.1975  , 31.012   , 31.010834, 31.136   , 30.907   , 30.622   ,\n",
       "       30.64    , 30.611666, 30.574   , 30.571   , 30.44    , 30.469   ,\n",
       "       30.43375 , 30.344   , 30.25125 , 30.271   , 30.299   , 30.198   ,\n",
       "       30.358   , 30.31625 , 30.246   , 30.5125  , 30.38875 , 30.578   ,\n",
       "       30.569   , 30.579166, 30.659   , 30.77    , 30.723   , 30.924   ,\n",
       "       31.015   , 30.80875 , 30.823334, 30.70875 , 30.72125 , 30.553   ,\n",
       "       30.797   , 31.55875 , 31.424166, 31.655   , 32.05125 , 32.305   ,\n",
       "       32.122   , 32.02    , 32.1825  , 32.085   , 31.98875 , 31.966   ,\n",
       "       31.757   , 31.216667, 31.288   , 31.49    , 30.939   , 30.839   ,\n",
       "       30.938   , 30.871   , 31.153   , 30.665   , 30.532   , 30.609   ,\n",
       "       30.626   , 30.684   , 30.685   , 30.5975  , 30.493   , 30.463   ,\n",
       "       30.619   , 30.595   , 30.546   , 30.621   , 30.746   , 30.809   ,\n",
       "       30.774   , 30.664167, 30.712   , 30.772   , 30.8175  , 30.779   ,\n",
       "       31.125   , 31.071   , 30.6     , 30.652222, 30.644   , 30.629   ,\n",
       "       31.528   , 31.680834, 31.583   , 31.505   , 31.64375 , 32.277   ,\n",
       "       32.151   , 31.755   , 32.600834, 32.77375 , 32.801666, 32.823   ,\n",
       "       31.995   , 31.446667, 31.471   , 31.74    , 31.128334, 30.525   ,\n",
       "       30.724   , 30.7825  , 30.68875 , 30.74875 , 30.698   , 30.659166,\n",
       "       30.668   , 30.668333, 30.54    , 30.494   , 30.344   , 30.264   ,\n",
       "       30.293   , 30.271   , 30.27    , 30.3125  , 30.319   , 30.306667,\n",
       "       30.36    , 30.38    , 30.48    , 30.534166, 30.665   , 30.765   ,\n",
       "       30.71375 , 30.744   , 30.640833, 30.684166, 30.679   , 30.6975  ,\n",
       "       30.405   , 30.37    , 30.969166, 30.777   , 31.2325  , 31.560833,\n",
       "       31.14    , 30.957   , 30.8275  , 30.731   , 30.505   , 30.349   ,\n",
       "       30.253   , 30.18    , 30.029   , 29.96    , 29.871   , 29.975   ,\n",
       "       30.221   , 30.246   , 30.25    , 30.686   , 30.934   , 31.123   ,\n",
       "       31.236   , 31.216   , 31.189   , 31.192   , 31.227   ],\n",
       "      dtype=float32)"
      ]
     },
     "execution_count": 62,
     "metadata": {},
     "output_type": "execute_result"
    }
   ],
   "source": [
    "a[:,-5]"
   ]
  },
  {
   "cell_type": "code",
   "execution_count": null,
   "metadata": {},
   "outputs": [],
   "source": []
  }
 ],
 "metadata": {
  "kernelspec": {
   "display_name": "base",
   "language": "python",
   "name": "python3"
  },
  "language_info": {
   "codemirror_mode": {
    "name": "ipython",
    "version": 3
   },
   "file_extension": ".py",
   "mimetype": "text/x-python",
   "name": "python",
   "nbconvert_exporter": "python",
   "pygments_lexer": "ipython3",
   "version": "3.10.12"
  }
 },
 "nbformat": 4,
 "nbformat_minor": 2
}
